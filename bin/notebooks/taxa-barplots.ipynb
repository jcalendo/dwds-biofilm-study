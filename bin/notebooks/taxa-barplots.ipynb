{
 "cells": [
  {
   "cell_type": "markdown",
   "metadata": {},
   "source": [
    "# Create Taxa Barplots\n",
    "\n",
    "This set of commands will produce taxa barplots using QIIME2. See the scripts `create-krona-plots.R` and `create-krona-plots-from-taxabarplot.R` for instruction on how to create Krona plots (html pie charts)."
   ]
  },
  {
   "cell_type": "markdown",
   "metadata": {},
   "source": [
    "## Create taxa barplot of all samples\n",
    "\n",
    "This includes MEBm pipe-biofilm, DS, etc.."
   ]
  },
  {
   "cell_type": "code",
   "execution_count": null,
   "metadata": {},
   "outputs": [],
   "source": [
    "%%bash\n",
    "qiime taxa barplot \\\n",
    "  --i-table table.qza \\\n",
    "  --i-taxonomy taxonomy.qza \\\n",
    "  --m-metadata-file sample-metadata.tsv \\\n",
    "  --o-visualization taxa-barplot.qzv"
   ]
  },
  {
   "cell_type": "markdown",
   "metadata": {},
   "source": [
    "## Create barplot for cast iron samples"
   ]
  },
  {
   "cell_type": "code",
   "execution_count": null,
   "metadata": {},
   "outputs": [],
   "source": [
    "%%bash\n",
    "qiime taxa barplot \\\n",
    "  --i-table cast-iron-table.qza \\\n",
    "  --i-taxonomy taxonomy.qza \\\n",
    "  --m-metadata-file sample-metadata.tsv \\\n",
    "  --o-visualization cast-iron-taxa-barplot.qzv"
   ]
  },
  {
   "cell_type": "markdown",
   "metadata": {},
   "source": [
    "## Create barplot for cement samples"
   ]
  },
  {
   "cell_type": "code",
   "execution_count": null,
   "metadata": {},
   "outputs": [],
   "source": [
    "%%bash\n",
    "qiime taxa barplot \\\n",
    "  --i-table cement-table.qza \\\n",
    "  --i-taxonomy taxonomy.qza \\\n",
    "  --m-metadata-file sample-metadata.tsv \\\n",
    "  --o-visualization cement-taxa-barplot.qzv"
   ]
  },
  {
   "cell_type": "markdown",
   "metadata": {},
   "source": [
    "## Create taxa barplot including those features identified by longitudinal ANCOM\n",
    "\n",
    "See that `longitudinal_ANCOM.R` script for how these features were identified."
   ]
  },
  {
   "cell_type": "code",
   "execution_count": null,
   "metadata": {},
   "outputs": [],
   "source": [
    "%%bash\n",
    "# filter table to include only those features\n",
    "qiime feature-table filter-features \\\n",
    "    --i-table AR-filtered-table.qza \\\n",
    "    --m-metadata-file differentially-abundant-features-ANCOM-0.6.tsv \\\n",
    "    --o-filtered-table differentially-abundant-features.qza\n",
    "\n",
    "# create barplot\n",
    "qiime taxa barplot \\\n",
    "    --i-table differentially-abundant-features.qza \\\n",
    "    --m-metadata-file sample-metadata.tsv \\\n",
    "    --i-taxonomy taxonomy.qza \\\n",
    "    --o-visualization differentially-abundant-taxa-barplot.qzv"
   ]
  }
 ],
 "metadata": {
  "kernelspec": {
   "display_name": "Python 3",
   "language": "python",
   "name": "python3"
  },
  "language_info": {
   "codemirror_mode": {
    "name": "ipython",
    "version": 3
   },
   "file_extension": ".py",
   "mimetype": "text/x-python",
   "name": "python",
   "nbconvert_exporter": "python",
   "pygments_lexer": "ipython3",
   "version": "3.6.7"
  }
 },
 "nbformat": 4,
 "nbformat_minor": 2
}
