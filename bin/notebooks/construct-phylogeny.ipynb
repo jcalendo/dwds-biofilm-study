{
 "cells": [
  {
   "cell_type": "markdown",
   "metadata": {},
   "source": [
    "# Build a *de novo* phylogenetic tree\n",
    "\n",
    "The next step is to construct a phylogenetic tree for diversity analysis. First perform a MSA, then mask gaps in the alignment. I then used IQ-TREE with ultra-fast bootstrap and single branch testing to create the tree. The resulting tree was then midpoint rooted. The resulting rooted-tree.qza file can be viewed in iTOL to examine boostrap values."
   ]
  },
  {
   "cell_type": "markdown",
   "metadata": {},
   "source": [
    "## Multiple Sequence Alignment with MAFFT"
   ]
  },
  {
   "cell_type": "code",
   "execution_count": null,
   "metadata": {},
   "outputs": [],
   "source": [
    "%%bash\n",
    "qiime alignment mafft \\\n",
    "    --i-sequences filtered-rep-seqs.qza \\\n",
    "    --o-alignment aligned-rep-seqs.qza"
   ]
  },
  {
   "cell_type": "markdown",
   "metadata": {},
   "source": [
    "## Mask the alignment\n",
    "\n",
    "Mask the alignment to 'cover' gapped regions."
   ]
  },
  {
   "cell_type": "code",
   "execution_count": null,
   "metadata": {},
   "outputs": [],
   "source": [
    "%%bash\n",
    "qiime alignment mask \\\n",
    "    --i-alignment aligned-rep-seqs.qza \\\n",
    "    --o-masked-alignment masked-aligned-rep-seqs.qza"
   ]
  },
  {
   "cell_type": "markdown",
   "metadata": {},
   "source": [
    "## Construct tree with IQ-TREE (caution)\n",
    "\n",
    "THIS STEP CAN TAKE A LOOOOONG TIME - USE `tmux` session. Previously, I performed model testing on the first batch of samples. The best fit model was determined to be SYM+R10 by BIC. We will perform single branch tests along with bootstrapping."
   ]
  },
  {
   "cell_type": "code",
   "execution_count": null,
   "metadata": {},
   "outputs": [],
   "source": [
    "%%bash\n",
    "qiime phylogeny iqtree-ultrafast-bootstrap \\\n",
    "    --i-alignment masked-aligned-rep-seqs.qza \\\n",
    "    --o-tree iqt-nnisi-bootstrap-sbt-symr10-tree.qza \\\n",
    "    --p-n-cores 0 \\\n",
    "    --p-alrt 1000 \\\n",
    "    --p-abayes \\\n",
    "    --p-lbp 1000 \\\n",
    "    --p-substitution-model 'SYM+R10' \\\n",
    "    --verbose"
   ]
  },
  {
   "cell_type": "markdown",
   "metadata": {},
   "source": [
    "## Midpoint root the tree"
   ]
  },
  {
   "cell_type": "code",
   "execution_count": null,
   "metadata": {},
   "outputs": [],
   "source": [
    "%%bash\n",
    "qiime phylogeny midpoint-root \\\n",
    "    --i-tree iqt-nnisi-bootstrap-sbt-symr10-tree.qza \\\n",
    "    --o-rooted-tree rooted-iqt-nnisi-bootstrap-sbt-symr10-tree.qza"
   ]
  }
 ],
 "metadata": {
  "kernelspec": {
   "display_name": "Python 3",
   "language": "python",
   "name": "python3"
  },
  "language_info": {
   "codemirror_mode": {
    "name": "ipython",
    "version": 3
   },
   "file_extension": ".py",
   "mimetype": "text/x-python",
   "name": "python",
   "nbconvert_exporter": "python",
   "pygments_lexer": "ipython3",
   "version": "3.6.7"
  }
 },
 "nbformat": 4,
 "nbformat_minor": 2
}
