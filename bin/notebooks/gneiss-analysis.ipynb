{
 "cells": [
  {
   "cell_type": "markdown",
   "metadata": {},
   "source": [
    "# Identifying microbial niches with Gneiss\n",
    "\n",
    "Gneiss uses balances to find partitions of microbes that change along some ecological gradient or are differentially abundant between a set of conditions. The first step in Gneiss is to filter the table to only include 'representative' features. There are no strit guidelines to selecting these features. The author of Gneiss suggests filtering out features with fewer than 500 reads across all samples, features that are present in less than 5 samples in a study, and features that have very low variance (less than 10e-4). "
   ]
  },
  {
   "cell_type": "markdown",
   "metadata": {},
   "source": [
    "## Filter low abundance taxa"
   ]
  },
  {
   "cell_type": "code",
   "execution_count": null,
   "metadata": {},
   "outputs": [],
   "source": [
    "%%bash\n",
    "qiime feature-table filter-features \\\n",
    "    --i-table cast-iron-table.qza \\\n",
    "    --p-min-frequency 500 \\\n",
    "    --o-filtered-table gneiss/cast-iron-table.qza\n",
    "\n",
    "qiime feature-table filter-features \\\n",
    "    --i-table gneiss/cast-iron-table.qza \\\n",
    "    --p-min-samples 5 \\\n",
    "    --o-filtered-table gneiss/cast-iron-filtered-table.qza\n",
    "    \n",
    "qiime feature-table filter-features \\\n",
    "    --i-table cement-table.qza \\\n",
    "    --p-min-frequency 500 \\\n",
    "    --o-filtered-table gneiss/cement-table.qza\n",
    "\n",
    "qiime feature-table filter-features \\\n",
    "    --i-table gneiss/cement-table.qza \\\n",
    "    --p-min-samples 5 \\\n",
    "    --o-filtered-table gneiss/cement-filtered-table.qza"
   ]
  },
  {
   "cell_type": "markdown",
   "metadata": {},
   "source": [
    "## Remove samples with incomplete records"
   ]
  },
  {
   "cell_type": "code",
   "execution_count": null,
   "metadata": {},
   "outputs": [],
   "source": [
    "%%bash\n",
    "qiime feature-table filter-samples \\\n",
    "    --i-table gneiss/cast-iron-filtered-table.qza \\\n",
    "    --m-metadata-file samples-to-remove.tsv \\\n",
    "    --p-exclude-ids \\\n",
    "    --o-filtered-table gneiss/cast-iron-complete-table.qza\n",
    "    \n",
    "qiime feature-table filter-samples \\\n",
    "    --i-table gneiss/cement-filtered-table.qza \\\n",
    "    --m-metadata-file samples-to-remove.tsv \\\n",
    "    --p-exclude-ids \\\n",
    "    --o-filtered-table gneiss/cement-complete-table.qza"
   ]
  },
  {
   "cell_type": "markdown",
   "metadata": {},
   "source": [
    "## Perform Gradient Clustering on the temperature variable"
   ]
  },
  {
   "cell_type": "code",
   "execution_count": null,
   "metadata": {},
   "outputs": [],
   "source": [
    "%%bash\n",
    "qiime gneiss gradient-clustering \\\n",
    "  --i-table gneiss/complete-table.qza \\\n",
    "  --m-gradient-file AR-metadata.tsv \\\n",
    "  --m-gradient-column Avg_Temp_Inf \\\n",
    "  --o-clustering gneiss/temp-gradient-hierarchy.qza \\\n",
    "  --p-weighted\n",
    "  \n",
    "# and on each table separately\n",
    "qiime gneiss gradient-clustering \\\n",
    "  --i-table gneiss/cast-iron-complete-table.qza \\\n",
    "  --m-gradient-file AR-metadata.tsv \\\n",
    "  --m-gradient-column Avg_Temp_Inf \\\n",
    "  --o-clustering gneiss/cast-iron-temp-gradient-hierarchy.qza \\\n",
    "  --p-weighted\n",
    "  \n",
    "qiime gneiss gradient-clustering \\\n",
    "  --i-table gneiss/cement-complete-table.qza \\\n",
    "  --m-gradient-file AR-metadata.tsv \\\n",
    "  --m-gradient-column Avg_Temp_Inf \\\n",
    "  --o-clustering gneiss/cement-temp-gradient-hierarchy.qza \\\n",
    "  --p-weighted"
   ]
  },
  {
   "cell_type": "markdown",
   "metadata": {},
   "source": [
    "## Compute ILR transform to create balances"
   ]
  },
  {
   "cell_type": "code",
   "execution_count": null,
   "metadata": {},
   "outputs": [],
   "source": [
    "%%bash\n",
    "qiime gneiss ilr-hierarchical \\\n",
    "    --i-table gneiss/complete-table.qza \\\n",
    "    --i-tree gneiss/temp-gradient-hierarchy.qza \\\n",
    "    --o-balances gneiss/temperature-balances.qza\n",
    "\n",
    "# and for each pipe material separately\n",
    "qiime gneiss ilr-hierarchical \\\n",
    "    --i-table gneiss/cast-iron-complete-table.qza \\\n",
    "    --i-tree gneiss/cast-iron-temp-gradient-hierarchy.qza \\\n",
    "    --o-balances gneiss/cast-iron-temp-balances.qza\n",
    "\n",
    "qiime gneiss ilr-hierarchical \\\n",
    "    --i-table gneiss/cement-complete-table.qza \\\n",
    "    --i-tree gneiss/cement-temp-gradient-hierarchy.qza \\\n",
    "    --o-balances gneiss/cement-temp-balances.qza"
   ]
  },
  {
   "cell_type": "markdown",
   "metadata": {},
   "source": [
    "## Run LME on the balances\n",
    "\n",
    "Sample_Identifier is the random effect, test for interaction effects."
   ]
  },
  {
   "cell_type": "code",
   "execution_count": null,
   "metadata": {},
   "outputs": [],
   "source": [
    "%%bash\n",
    "qiime gneiss lme-regression \\\n",
    "    --p-formula \"Pipe_Material*Avg_Temp_Inf\" \\\n",
    "    --i-table gneiss/temperature-balances.qza \\\n",
    "    --i-tree gneiss/temp-gradient-hierarchy.qza \\\n",
    "    --m-metadata-file AR-metadata.tsv \\\n",
    "    --p-groups \"Sample_Identifier\" \\\n",
    "    --o-visualization gneiss/temperature-lme.qzv\n",
    "\n",
    "# and for both materials separately\n",
    "qiime gneiss lme-regression \\\n",
    "    --p-formula \"Avg_Temp_Inf\" \\\n",
    "    --i-table gneiss/cast-iron-temp-balances.qza \\\n",
    "    --i-tree gneiss/cast-iron-temp-gradient-hierarchy.qza \\\n",
    "    --m-metadata-file AR-metadata.tsv \\\n",
    "    --p-groups \"Sample_Identifier\" \\\n",
    "    --o-visualization gneiss/cast-iron-temp-lme.qzv\n",
    "\n",
    "qiime gneiss lme-regression \\\n",
    "    --p-formula \"Avg_Temp_Inf\" \\\n",
    "    --i-table gneiss/cement-temp-balances.qza \\\n",
    "    --i-tree gneiss/cement-temp-gradient-hierarchy.qza \\\n",
    "    --m-metadata-file AR-metadata.tsv \\\n",
    "    --p-groups \"Sample_Identifier\" \\\n",
    "    --o-visualization gneiss/cement-temp-lme.qzv"
   ]
  },
  {
   "cell_type": "markdown",
   "metadata": {},
   "source": [
    "## Produce heatmaps to visualize important balances"
   ]
  },
  {
   "cell_type": "code",
   "execution_count": null,
   "metadata": {},
   "outputs": [],
   "source": [
    "%%bash\n",
    "qiime gneiss dendrogram-heatmap \\\n",
    "  --i-table gneiss/complete-table.qza \\\n",
    "  --i-tree gneiss/temp-gradient-hierarchy.qza \\\n",
    "  --m-metadata-file AR-metadata.tsv \\\n",
    "  --m-metadata-column Pipe_Material \\\n",
    "  --p-color-map seismic \\\n",
    "  --o-visualization gneiss/temperature-heatmap.qzv\n",
    "  \n",
    "# and for both separately\n",
    "qiime gneiss dendrogram-heatmap \\\n",
    "  --i-table gneiss/cast-iron-complete-table.qza \\\n",
    "  --i-tree gneiss/cast-iron-temp-gradient-hierarchy.qza \\\n",
    "  --m-metadata-file AR-metadata.tsv \\\n",
    "  --m-metadata-column Sample_Identifier \\\n",
    "  --p-color-map seismic \\\n",
    "  --o-visualization gneiss/cast-iron-temp-heatmap.qzv\n",
    "\n",
    "qiime gneiss dendrogram-heatmap \\\n",
    "  --i-table gneiss/cement-complete-table.qza \\\n",
    "  --i-tree gneiss/cement-temp-gradient-hierarchy.qza \\\n",
    "  --m-metadata-file AR-metadata.tsv \\\n",
    "  --m-metadata-column Sample_Identifier \\\n",
    "  --p-color-map seismic \\\n",
    "  --o-visualization gneiss/cement-temp-heatmap.qzv"
   ]
  },
  {
   "cell_type": "markdown",
   "metadata": {},
   "source": [
    "## Show the taxonomy and proportions for the most informative balance\n",
    "\n",
    "The y0 balance may not have the lowest identified p-val but the corrected p-value for the y0 balance is significant (p<0.001). The y0 balance is a good choice because it captures all information in the tree."
   ]
  },
  {
   "cell_type": "code",
   "execution_count": null,
   "metadata": {},
   "outputs": [],
   "source": [
    "%%bash\n",
    "qiime gneiss balance-taxonomy \\\n",
    "    --i-table gneiss/complete-table.qza \\\n",
    "    --i-tree gneiss/temp-gradient-hierarchy.qza \\\n",
    "    --i-taxonomy taxonomy.qza \\\n",
    "    --p-taxa-level 4 \\\n",
    "    --p-balance-name 'y0' \\\n",
    "    --m-metadata-file AR-metadata.tsv \\\n",
    "    --m-metadata-column 'Avg_Temp_Inf' \\\n",
    "    --o-visualization gneiss/temp-y0_taxa_summary.qzv\n",
    "\n",
    "# and for each separately\n",
    "qiime gneiss balance-taxonomy \\\n",
    "    --i-table gneiss/cast-iron-complete-table.qza \\\n",
    "    --i-tree gneiss/cast-iron-temp-gradient-hierarchy.qza \\\n",
    "    --i-taxonomy taxonomy.qza \\\n",
    "    --p-taxa-level 4 \\\n",
    "    --p-balance-name 'y0' \\\n",
    "    --m-metadata-file AR-metadata.tsv \\\n",
    "    --m-metadata-column 'Avg_Temp_Inf' \\\n",
    "    --o-visualization gneiss/cast-iron-temp-y0_taxa_summary.qzv\n",
    "    \n",
    "qiime gneiss balance-taxonomy \\\n",
    "    --i-table gneiss/cement-complete-table.qza \\\n",
    "    --i-tree gneiss/cement-temp-gradient-hierarchy.qza \\\n",
    "    --i-taxonomy taxonomy.qza \\\n",
    "    --p-taxa-level 4 \\\n",
    "    --p-balance-name 'y0' \\\n",
    "    --m-metadata-file AR-metadata.tsv \\\n",
    "    --m-metadata-column 'Avg_Temp_Inf' \\\n",
    "    --o-visualization gneiss/cement-temp-y0_taxa_summary.qzv"
   ]
  },
  {
   "cell_type": "markdown",
   "metadata": {},
   "source": [
    "---\n",
    "\n",
    "## Plotting the tree and balance gradients in Python\n",
    "\n",
    "We can use some of the tables and trees calculated in QIIME2 as input to the Gniess python plugin to make more informative plots and to visualize the balance tree itself. First, we'll import all of the important modules and then load the data"
   ]
  },
  {
   "cell_type": "code",
   "execution_count": null,
   "metadata": {},
   "outputs": [],
   "source": [
    "import os\n",
    "import qiime2\n",
    "import numpy as np\n",
    "import pandas as pd\n",
    "from skbio import TreeNode\n",
    "from gneiss.util import NUMERATOR, DENOMINATOR\n",
    "%matplotlib inline\n",
    "\n",
    "\n",
    "# import the table\n",
    "table_art = qiime2.Artifact.load(\"gneiss/complete-table.qza\")\n",
    "table = table_art.view(pd.DataFrame)\n",
    "\n",
    "# import the balances\n",
    "balances_art = qiime2.Artifact.load(\"gneiss/temperature-balances.qza\")\n",
    "balances = balances_art.view(pd.DataFrame)\n",
    "\n",
    "# import the tree\n",
    "tree_art = qiime2.Artifact.load(\"gneiss/temp-gradient-hierarchy.qza\")\n",
    "tree = tree_art.view(TreeNode)\n",
    "\n",
    "# import the taxa\n",
    "taxa_art = qiime2.Artifact.load(\"taxonomy.qza\")\n",
    "taxa = taxa_art.view(pd.DataFrame)\n",
    "\n",
    "# import the metadata\n",
    "metadata = pd.read_table(\"AR-metadata.tsv\", index_col=0)\n",
    "\n",
    "# unpack results from regression\n",
    "viz = qiime2.Visualization.load(\"gneiss/temperature-lme.qzv\")\n",
    "viz.export_data('gneiss/regression_summary_dir')\n",
    "\n",
    "pvals = pd.read_csv(\"gneiss/regression_summary_dir/pvalues.csv\", index_col=0)\n",
    "resid = pd.read_csv(\"gneiss/regression_summary_dir/residuals.csv\", index_col=0)\n",
    "\n",
    "num_taxa = taxa.loc[tree.find('y0').children[NUMERATOR].subset()]\n",
    "denom_taxa = taxa.loc[tree.find('y0').children[DENOMINATOR].subset()]"
   ]
  },
  {
   "cell_type": "markdown",
   "metadata": {},
   "source": [
    "Next, estimate the mean niche along the ecological gradient"
   ]
  },
  {
   "cell_type": "code",
   "execution_count": null,
   "metadata": {},
   "outputs": [],
   "source": [
    "from gneiss.sort import mean_niche_estimator\n",
    "\n",
    "mean_temp = mean_niche_estimator(table, metadata.Avg_Temp_Inf)"
   ]
  },
  {
   "cell_type": "markdown",
   "metadata": {},
   "source": [
    "Display the columns so we know what we're working with"
   ]
  },
  {
   "cell_type": "code",
   "execution_count": null,
   "metadata": {},
   "outputs": [],
   "source": [
    "print(pvals.columns)"
   ]
  },
  {
   "cell_type": "markdown",
   "metadata": {},
   "source": [
    "Next, set up the tree for plotting"
   ]
  },
  {
   "cell_type": "code",
   "execution_count": null,
   "metadata": {},
   "outputs": [],
   "source": [
    "for n in tree.postorder():\n",
    "    n.color = '#FF00FF'                          # color all nodes magenta    \n",
    "    if n.is_tip():                               # display mean ph in hover tool\n",
    "        n.mean_temp = mean_temp.loc[n.name]         \n",
    "    else:                                        # resize node by pvalue\n",
    "        pval = pvals.loc[n.name, 'Avg_Temp_Inf']\n",
    "        n.ph_pvalue = -np.log(pval) / 10         # scale down for visual purposes"
   ]
  },
  {
   "cell_type": "markdown",
   "metadata": {},
   "source": [
    "Plot the balance tree, showing the most important balances as large magenta nodes."
   ]
  },
  {
   "cell_type": "code",
   "execution_count": null,
   "metadata": {},
   "outputs": [],
   "source": [
    "from gneiss.plot import radialplot\n",
    "from bokeh.io import show, output_notebook\n",
    "\n",
    "\n",
    "output_notebook()\n",
    "p = radialplot(tree, node_size='ph_pvalue', \n",
    "               node_color='color', edge_color='edge_color',\n",
    "               hover_var='mean_temp')\n",
    "\n",
    "show(p)"
   ]
  },
  {
   "cell_type": "markdown",
   "metadata": {},
   "source": [
    "Plot the balances across the ecological gradient to show how taxa abundance changes with temperature. Then save the figure."
   ]
  },
  {
   "cell_type": "code",
   "execution_count": null,
   "metadata": {},
   "outputs": [],
   "source": [
    "import seaborn as sns\n",
    "\n",
    "data = pd.merge(balances, metadata, left_index=True, right_index=True)\n",
    "grid = sns.factorplot(x=\"Avg_Temp_Inf\", y=\"y0\", hue='Pipe_Material', \n",
    "                      data=data, palette=\"viridis\", legend=True)\n",
    "\n",
    "grid.savefig(\"images/temperature-balances\", dpi=600)"
   ]
  },
  {
   "cell_type": "markdown",
   "metadata": {},
   "source": [
    "### Compare predicted results with actual\n",
    "\n",
    "We can try to compare the predicted results to the actual - I haven't had much success getting this to look all that good. I think I might be missing something in the code...This is still a work in progress."
   ]
  },
  {
   "cell_type": "markdown",
   "metadata": {},
   "source": [
    "Set up the predictions"
   ]
  },
  {
   "cell_type": "code",
   "execution_count": null,
   "metadata": {},
   "outputs": [],
   "source": [
    "from skbio.stats.composition import ilr_inv\n",
    "from gneiss.balances import balance_basis\n",
    "from gneiss.sort import niche_sort\n",
    "\n",
    "\n",
    "observed_table = niche_sort(table, metadata.Avg_Temp_Inf)\n",
    "predicted_balances = pd.read_csv('gneiss/regression_summary_dir/predicted.csv', index_col=0)\n",
    "\n",
    "basis, nodes = balance_basis(tree)\n",
    "ids = [n.name for n in tree.tips()]\n",
    "\n",
    "predicted_table = ilr_inv(predicted_balances.T, basis)\n",
    "predicted_table = pd.DataFrame(predicted_table, columns=ids,index=predicted_balances.columns)\n",
    "predicted_table = predicted_table.reindex(index=observed_table.index, columns=observed_table.columns)"
   ]
  },
  {
   "cell_type": "markdown",
   "metadata": {},
   "source": [
    "Plot a heatmap of the predicted values against the observed"
   ]
  },
  {
   "cell_type": "code",
   "execution_count": null,
   "metadata": {},
   "outputs": [],
   "source": [
    "from skbio.stats.composition import closure\n",
    "import seaborn as sns\n",
    "import matplotlib.pyplot as plt\n",
    "\n",
    "\n",
    "fig, (ax1, ax2) = plt.subplots(ncols=2, nrows=1, figsize=(15, 5))\n",
    "sns.heatmap(closure(observed_table.T), robust=True, ax=ax1, cmap='Reds')\n",
    "sns.heatmap(predicted_table.T, robust=True, ax=ax2, cmap='Reds')\n",
    "ax1.set_title('Observed proportions')\n",
    "ax1.set_xticks([])\n",
    "ax1.set_yticks([])\n",
    "ax2.set_xticks([])\n",
    "ax2.set_yticks([])\n",
    "ax1.set_xlabel('Samples')\n",
    "ax1.set_ylabel('OTUs')\n",
    "ax2.set_title('Predicted proportions')\n",
    "ax2.set_xlabel('Samples')\n",
    "ax2.set_ylabel('OTUs')"
   ]
  }
 ],
 "metadata": {
  "kernelspec": {
   "display_name": "Python 3",
   "language": "python",
   "name": "python3"
  },
  "language_info": {
   "codemirror_mode": {
    "name": "ipython",
    "version": 3
   },
   "file_extension": ".py",
   "mimetype": "text/x-python",
   "name": "python",
   "nbconvert_exporter": "python",
   "pygments_lexer": "ipython3",
   "version": "3.6.7"
  }
 },
 "nbformat": 4,
 "nbformat_minor": 2
}
