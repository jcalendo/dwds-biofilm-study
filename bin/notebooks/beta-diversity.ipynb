{
 "cells": [
  {
   "cell_type": "markdown",
   "metadata": {},
   "source": [
    "# Perform Beta Diversity Calculations\n",
    "\n",
    "Most of the Beta diversity metrics were calculated in the `core-metrics-results` pipeline. This file will focu mainly on visualizing and significance testing of those results."
   ]
  },
  {
   "cell_type": "markdown",
   "metadata": {},
   "source": [
    "## Bray-Curtis Group Significance"
   ]
  },
  {
   "cell_type": "code",
   "execution_count": null,
   "metadata": {},
   "outputs": [],
   "source": [
    "%%bash\n",
    "qiime diversity beta-group-significance \\\n",
    "  --i-distance-matrix AR-core-metrics-results/bray_curtis_distance_matrix.qza \\\n",
    "  --m-metadata-file sample-metadata.tsv \\\n",
    "  --m-metadata-column Pipe_Material \\\n",
    "  --o-visualization AR-core-metrics-results/bray-curtis-pipe-material-significance.qzv \\\n",
    "  --p-pairwise\n",
    "\n",
    "# With Biofilm\n",
    "qiime diversity beta-group-significance \\\n",
    "  --i-distance-matrix biofilm-core-metrics-results/bray_curtis_distance_matrix.qza \\\n",
    "  --m-metadata-file sample-metadata.tsv \\\n",
    "  --m-metadata-column Pipe_Material \\\n",
    "  --o-visualization biofilm-core-metrics-results/bray-curtis-pipe-material-significance.qzv \\\n",
    "  --p-pairwise"
   ]
  },
  {
   "cell_type": "markdown",
   "metadata": {},
   "source": [
    "## uUnifrac Group Significance"
   ]
  },
  {
   "cell_type": "code",
   "execution_count": null,
   "metadata": {},
   "outputs": [],
   "source": [
    "%%bash\n",
    "qiime diversity beta-group-significance \\\n",
    "  --i-distance-matrix AR-core-metrics-results/unweighted_unifrac_distance_matrix.qza \\\n",
    "  --m-metadata-file sample-metadata.tsv \\\n",
    "  --m-metadata-column Pipe_Material \\\n",
    "  --o-visualization AR-core-metrics-results/uUnifrac-pipe-material-significance.qzv \\\n",
    "  --p-pairwise\n",
    "\n",
    "# With Biofilm\n",
    "qiime diversity beta-group-significance \\\n",
    "  --i-distance-matrix biofilm-core-metrics-results/unweighted_unifrac_distance_matrix.qza \\\n",
    "  --m-metadata-file sample-metadata.tsv \\\n",
    "  --m-metadata-column Pipe_Material \\\n",
    "  --o-visualization biofilm-core-metrics-results/uUnifrac-pipe-material-significance.qzv \\\n",
    "  --p-pairwise"
   ]
  },
  {
   "cell_type": "markdown",
   "metadata": {},
   "source": [
    "## Jaccard Group Significance\n",
    "\n",
    "The Jaccard distance is not included in the core metrics and thus the rarefied table (created separately) must be used as input to the `diversity beta` plugin to calculate Jaccard distances."
   ]
  },
  {
   "cell_type": "code",
   "execution_count": null,
   "metadata": {},
   "outputs": [],
   "source": [
    "%%bash\n",
    "# calculate jaccard distance matrix\n",
    "qiime diversity beta \\\n",
    "    --i-table AR-rarefied-filtered-table.qza \\\n",
    "    --p-metric jaccard \\\n",
    "    --o-distance-matrix AR-core-metrics-results/jaccard_distance_matrix.qza\n",
    "\n",
    "# significance testing\n",
    "qiime diversity beta-group-significance \\\n",
    "  --i-distance-matrix AR-core-metrics-results/jaccard_distance_matrix.qza \\\n",
    "  --m-metadata-file sample-metadata.tsv \\\n",
    "  --m-metadata-column Pipe_Material \\\n",
    "  --o-visualization AR-core-metrics-results/jaccard-pipe-material-significance.qzv \\\n",
    "  --p-pairwise"
   ]
  },
  {
   "cell_type": "markdown",
   "metadata": {},
   "source": [
    "## Create emperor plots of the results\n",
    "\n",
    "Emperor plots alow for 3d visualizatino of the PCoA results."
   ]
  },
  {
   "cell_type": "code",
   "execution_count": null,
   "metadata": {},
   "outputs": [],
   "source": [
    "%%bash\n",
    "qiime emperor plot \\\n",
    "  --i-pcoa AR-core-metrics-results/unweighted_unifrac_pcoa_results.qza \\\n",
    "  --m-metadata-file sample-metadata.tsv \\\n",
    "  --p-custom-axes Days_Since_Start \\\n",
    "  --o-visualization AR-core-metrics-results/unweighted-unifrac-emperor-DaysSinceExperimentStart.qzv\n",
    " \n",
    "qiime emperor plot \\\n",
    "  --i-pcoa AR-core-metrics-results/unweighted_unifrac_pcoa_results.qza \\\n",
    "  --m-metadata-file sample-metadata.tsv \\\n",
    "  --p-custom-axes Months_Since_Start_Exact \\\n",
    "  --o-visualization AR-core-metrics-results/unweighted-unifrac-emperor-MonthsSinceExperimentStart.qzv \n",
    "\n",
    "qiime emperor plot \\\n",
    "  --i-pcoa AR-core-metrics-results/bray_curtis_pcoa_results.qza \\\n",
    "  --m-metadata-file sample-metadata.tsv \\\n",
    "  --p-custom-axes Days_Since_Start \\\n",
    "  --o-visualization AR-core-metrics-results/bray-curtis-emperor-DaysSinceExperimentStart.qzv\n",
    "  \n",
    "qiime emperor plot \\\n",
    "  --i-pcoa AR-core-metrics-results/weighted_unifrac_pcoa_results.qza \\\n",
    "  --m-metadata-file sample-metadata.tsv \\\n",
    "  --p-custom-axes Days_Since_Start \\\n",
    "  --o-visualization AR-core-metrics-results/weighted-unifrac-emperor-DaysSinceExperimentStart.qzv\n",
    "\n",
    "# With Biofilm\n",
    "qiime emperor plot \\\n",
    "  --i-pcoa biofilm-core-metrics-results/unweighted_unifrac_pcoa_results.qza \\\n",
    "  --m-metadata-file sample-metadata.tsv \\\n",
    "  --o-visualization biofilm-core-metrics-results/unweighted-unifrac-emperor-DaysSinceExperimentStart.qzv\n",
    "\n",
    "qiime emperor plot \\\n",
    "  --i-pcoa biofilm-core-metrics-results/bray_curtis_pcoa_results.qza \\\n",
    "  --m-metadata-file sample-metadata.tsv \\\n",
    "  --o-visualization biofilm-core-metrics-results/bray-curtis-emperor-DaysSinceExperimentStart.qzv"
   ]
  },
  {
   "cell_type": "markdown",
   "metadata": {},
   "source": [
    "## Create traditional PCoA biplot"
   ]
  },
  {
   "cell_type": "code",
   "execution_count": null,
   "metadata": {},
   "outputs": [],
   "source": [
    "# convert to relative frequency table\n",
    "qiime feature-table relative-frequency \\\n",
    "    --i-table AR-filtered-table.qza \\\n",
    "    --o-relative-frequency-table AR-filtered-relative-frequency-table.qza\n",
    "\n",
    "# Perform PCoA Biplot\n",
    "qiime diversity pcoa-biplot \\\n",
    "    --i-pcoa AR-core-metrics-results/unweighted_unifrac_pcoa_results.qza \\\n",
    "    --i-features AR-filtered-relative-frequency-table.qza \\\n",
    "    --o-biplot AR-core-metrics-results/biplot.qza\n",
    "\n",
    "# produce interactive emperor biplot\n",
    "qiime emperor biplot \\\n",
    "    --i-biplot AR-core-metrics-results/biplot.qza \\\n",
    "    --m-sample-metadata-file sample-metadata.tsv \\\n",
    "    --o-visualization AR-core-metrics-results/biplot.qzv"
   ]
  },
  {
   "cell_type": "markdown",
   "metadata": {},
   "source": [
    "## Handoff to R for plotting\n",
    "\n",
    "Again, pass the results of to R for plotting purposes. These scripts are located in /bin/scripts"
   ]
  }
 ],
 "metadata": {
  "kernelspec": {
   "display_name": "Python 3",
   "language": "python",
   "name": "python3"
  },
  "language_info": {
   "codemirror_mode": {
    "name": "ipython",
    "version": 3
   },
   "file_extension": ".py",
   "mimetype": "text/x-python",
   "name": "python",
   "nbconvert_exporter": "python",
   "pygments_lexer": "ipython3",
   "version": "3.6.7"
  }
 },
 "nbformat": 4,
 "nbformat_minor": 2
}
