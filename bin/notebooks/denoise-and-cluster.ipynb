{
 "cells": [
  {
   "cell_type": "markdown",
   "metadata": {},
   "source": [
    "# Sequence Quality Control and Feature Table Construction\n",
    "\n",
    "The DADA2 steps take quite some time some it is recommended to run them in a terminal multiplexer such as `tmux`. The input for DADA2 will be the trimmed, demultiplexed reads produced in the `import-and-trim.ipynb` file. Prior to performing DADA2 it is advidable to inspect the read quality to determine the trimming values for DADA2. "
   ]
  },
  {
   "cell_type": "markdown",
   "metadata": {},
   "source": [
    "## Run DADA2 on both sets of data\n",
    "\n",
    "Be mindful of the different trimming settings - that is because the reads produced in the second run were generally of lower quality than the first run."
   ]
  },
  {
   "cell_type": "code",
   "execution_count": null,
   "metadata": {},
   "outputs": [],
   "source": [
    "%%bash\n",
    "# first set of reads\n",
    "qiime dada2 denoise-paired \\\n",
    "    --i-demultiplexed-seqs b1-trimmed-demuxed-seqs/trimmed_sequences.qza \\\n",
    "    --p-trunc-len-f 265 \\\n",
    "    --p-trunc-len-r 235 \\\n",
    "    --p-n-threads 16 \\\n",
    "    --o-table b1-table.qza \\\n",
    "    --o-representative-sequences b1-rep-seqs.qza \\\n",
    "    --o-denoising-stats b1-stats.qza\n",
    "\n",
    "# second set of reads\n",
    "qiime dada2 denoise-paired \\\n",
    "    --i-demultiplexed-seqs b2-trimmed-demuxed-seqs/trimmed_sequences.qza \\\n",
    "    --p-trunc-len-f 260 \\\n",
    "    --p-trunc-len-r 215 \\\n",
    "    --p-n-threads 16 \\\n",
    "    --o-table b2-table.qza \\\n",
    "    --o-representative-sequences b2-rep-seqs.qza \\\n",
    "    --o-denoising-stats b2-stats.qza"
   ]
  },
  {
   "cell_type": "markdown",
   "metadata": {},
   "source": [
    "## Visualize the denoising stats \n",
    "\n",
    "Make sure we didn't drop too many reads at any one step. Depending on the step, this would indicate a problem with the trimming/truncation lengths. \n",
    "\n",
    "**note**: A lot of reads were lost in the filtering step in the second batch, presumably because the second batch had worse sequence quality. In either case these results are still okay because there are 10's of thousands of reads remaining.  "
   ]
  },
  {
   "cell_type": "code",
   "execution_count": null,
   "metadata": {},
   "outputs": [],
   "source": [
    "%%bash\n",
    "qiime metadata tabulate \\\n",
    "    --m-input-file b1-stats.qza \\\n",
    "    --o-visualization b1-stats.qzv\n",
    "    \n",
    "qiime metadata tabulate \\\n",
    "    --m-input-file b2-stats.qza \\\n",
    "    --o-visualization b2-stats.qzv"
   ]
  },
  {
   "cell_type": "markdown",
   "metadata": {},
   "source": [
    "## Merge the Feature Tables\n",
    "\n",
    "Next we can merge the resulting ASV tables of both DADA2 pipelines into a single feature-table"
   ]
  },
  {
   "cell_type": "code",
   "execution_count": null,
   "metadata": {},
   "outputs": [],
   "source": [
    "%%bash\n",
    "qiime feature-table merge \\\n",
    "    --i-tables b1-table.qza\n",
    "    --i-tables b2-table.qza \\\n",
    "    --o-merged-table table.qza"
   ]
  },
  {
   "cell_type": "markdown",
   "metadata": {},
   "source": [
    "## Merge the Representative Sequences\n",
    "\n",
    "Now merge the representative sequences into one fastq file."
   ]
  },
  {
   "cell_type": "code",
   "execution_count": null,
   "metadata": {},
   "outputs": [],
   "source": [
    "%%bash\n",
    "qiime feature-table merge-seqs \\\n",
    "    --i-data b1-rep-seqs.qza\n",
    "    --i-data b2-rep-seqs.qza \\\n",
    "    --o-merged-data rep-seqs.qza"
   ]
  },
  {
   "cell_type": "markdown",
   "metadata": {},
   "source": [
    "## Visualize the merged tables and seqs"
   ]
  },
  {
   "cell_type": "code",
   "execution_count": null,
   "metadata": {},
   "outputs": [],
   "source": [
    "%%bash\n",
    "# visualize table\n",
    "qiime feature-table summarize \\\n",
    "    --i-table table.qza \\\n",
    "    --o-visualization table.qzv \\\n",
    "    --m-sample-metadata-file sample-metadata.tsv\n",
    "\n",
    "# visualize merged reads\n",
    "qiime feature-table tabulate-seqs \\\n",
    "    --i-data rep-seqs.qza\n",
    "    --o-visualization rep-seqs.qzv"
   ]
  }
 ],
 "metadata": {
  "kernelspec": {
   "display_name": "Python 3",
   "language": "python",
   "name": "python3"
  },
  "language_info": {
   "codemirror_mode": {
    "name": "ipython",
    "version": 3
   },
   "file_extension": ".py",
   "mimetype": "text/x-python",
   "name": "python",
   "nbconvert_exporter": "python",
   "pygments_lexer": "ipython3",
   "version": "3.6.7"
  }
 },
 "nbformat": 4,
 "nbformat_minor": 2
}
