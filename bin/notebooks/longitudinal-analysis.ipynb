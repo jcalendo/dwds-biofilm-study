{
 "cells": [
  {
   "cell_type": "markdown",
   "metadata": {},
   "source": [
    "# Perform Longitudinal Analysis"
   ]
  },
  {
   "cell_type": "markdown",
   "metadata": {},
   "source": [
    "## Plot diversity metrics over time\n",
    "\n",
    "We can first plot the diversity metrics over time to observe when abrupt changes in alpha diversity may have taken place."
   ]
  },
  {
   "cell_type": "code",
   "execution_count": null,
   "metadata": {},
   "outputs": [],
   "source": [
    "%%bash\n",
    "# Volatility Analysis - Faith PD\n",
    "qiime longitudinal volatility \\\n",
    "    --m-metadata-file sample-metadata.tsv \\\n",
    "    --m-metadata-file AR-core-metrics-results/faith_pd_vector.qza \\\n",
    "    --p-default-metric faith_pd \\\n",
    "    --p-default-group-column Pipe_Material \\\n",
    "    --p-state-column Months_Since_Start \\\n",
    "    --p-individual-id-column Sample_Identifier \\\n",
    "    --o-visualization longitudinal/AR-faith-pd-volatility.qzv\n",
    "\n",
    "# Volatility Analysis - Shannon\n",
    "qiime longitudinal volatility \\\n",
    "    --m-metadata-file sample-metadata.tsv \\\n",
    "    --m-metadata-file AR-core-metrics-results/shannon_vector.qza \\\n",
    "    --p-default-metric shannon \\\n",
    "    --p-default-group-column Pipe_Material \\\n",
    "    --p-state-column Months_Since_Start \\\n",
    "    --p-individual-id-column Sample_Identifier \\\n",
    "    --o-visualization longitudinal/AR-shannon-volatility.qzv\n",
    "\n",
    "# Volatility Analysis - Simpson\n",
    "qiime longitudinal volatility \\\n",
    "    --m-metadata-file sample-metadata.tsv \\\n",
    "    --m-metadata-file AR-core-metrics-results/simpson_vector.qza \\\n",
    "    --p-default-metric simpson \\\n",
    "    --p-default-group-column Pipe_Material \\\n",
    "    --p-state-column Months_Since_Start \\\n",
    "    --p-individual-id-column Sample_Identifier \\\n",
    "    --o-visualization longitudinal/AR-simpson-volatility.qzv"
   ]
  },
  {
   "cell_type": "markdown",
   "metadata": {},
   "source": [
    "## Calculate the magnitude of change in alpha-diversity between successive timepoints"
   ]
  },
  {
   "cell_type": "code",
   "execution_count": null,
   "metadata": {},
   "outputs": [],
   "source": [
    "%%bash\n",
    "# Faith PD first differences\n",
    "qiime longitudinal first-differences \\\n",
    "    --m-metadata-file sample-metadata.tsv \\\n",
    "    --m-metadata-file AR-core-metrics-results/faith_pd_vector.qza \\\n",
    "    --p-state-column Months_Since_Start \\\n",
    "    --p-metric faith_pd \\\n",
    "    --p-individual-id-column Sample_Identifier \\\n",
    "    --p-replicate-handling random \\\n",
    "    --o-first-differences longitudinal/faith-pd-first-differences.qza\n",
    "\n",
    "# shannon first differences\n",
    "qiime longitudinal first-differences \\\n",
    "    --m-metadata-file sample-metadata.tsv \\\n",
    "    --m-metadata-file AR-core-metrics-results/shannon_vector.qza \\\n",
    "    --p-state-column Months_Since_Start \\\n",
    "    --p-metric shannon \\\n",
    "    --p-individual-id-column Sample_Identifier \\\n",
    "    --p-replicate-handling random \\\n",
    "    --o-first-differences longitudinal/shannon-first-differences.qza\n",
    "\n",
    "# simpson first differences\n",
    "qiime longitudinal first-differences \\\n",
    "    --m-metadata-file sample-metadata.tsv \\\n",
    "    --m-metadata-file AR-core-metrics-results/simpson_vector.qza \\\n",
    "    --p-state-column Months_Since_Start \\\n",
    "    --p-metric simpson \\\n",
    "    --p-individual-id-column Sample_Identifier \\\n",
    "    --p-replicate-handling random \\\n",
    "    --o-first-differences longitudinal/simpson-first-differences.qza"
   ]
  },
  {
   "cell_type": "markdown",
   "metadata": {},
   "source": [
    "### Visualize these results with the volatility visualizer"
   ]
  },
  {
   "cell_type": "code",
   "execution_count": null,
   "metadata": {},
   "outputs": [],
   "source": [
    "%%bash\n",
    "#faith-pd\n",
    "qiime longitudinal volatility \\\n",
    "    --m-metadata-file sample-metadata.tsv \\\n",
    "    --m-metadata-file longitudinal/faith-pd-first-differences.qza \\\n",
    "    --p-default-metric Difference \\\n",
    "    --p-default-group-column Pipe_Material \\\n",
    "    --p-state-column Months_Since_Start \\\n",
    "    --p-individual-id-column Sample_Identifier \\\n",
    "    --o-visualization longitudinal/faith-pd-first-differences.qzv\n",
    "\n",
    "# Shannon\n",
    "qiime longitudinal volatility \\\n",
    "    --m-metadata-file sample-metadata.tsv \\\n",
    "    --m-metadata-file longitudinal/shannon-first-differences.qza \\\n",
    "    --p-default-metric Difference \\\n",
    "    --p-default-group-column Pipe_Material \\\n",
    "    --p-state-column Months_Since_Start \\\n",
    "    --p-individual-id-column Sample_Identifier \\\n",
    "    --o-visualization longitudinal/shannon-first-differences.qzv\n",
    "\n",
    "# Simpson\n",
    "qiime longitudinal volatility \\\n",
    "    --m-metadata-file sample-metadata.tsv \\\n",
    "    --m-metadata-file longitudinal/simpson-first-differences.qza \\\n",
    "    --p-default-metric Difference \\\n",
    "    --p-default-group-column Pipe_Material \\\n",
    "    --p-state-column Months_Since_Start \\\n",
    "    --p-individual-id-column Sample_Identifier \\\n",
    "    --o-visualization longitudinal/simpson-first-differences.qzv"
   ]
  },
  {
   "cell_type": "markdown",
   "metadata": {},
   "source": [
    "## Calculate Beta Diversity Distance between Succesive Pairs"
   ]
  },
  {
   "cell_type": "code",
   "execution_count": null,
   "metadata": {},
   "outputs": [],
   "source": [
    "%%bash\n",
    "qiime longitudinal first-distances \\\n",
    "    --i-distance-matrix AR-core-metrics-results/unweighted_unifrac_distance_matrix.qza \\\n",
    "    --m-metadata-file sample-metadata.tsv \\\n",
    "    --p-state-column Months_Since_Start \\\n",
    "    --p-individual-id-column Sample_Identifier \\\n",
    "    --p-replicate-handling random \\\n",
    "    --o-first-distances longitudinal/first-distances.qza\n",
    "\n",
    "# visualize the results\n",
    "qiime longitudinal volatility \\\n",
    "    --m-metadata-file sample-metadata.tsv \\\n",
    "    --m-metadata-file longitudinal/first-distances.qza \\\n",
    "    --p-default-metric Distance \\\n",
    "    --p-default-group-column Pipe_Material \\\n",
    "    --p-state-column Months_Since_Start \\\n",
    "    --p-individual-id-column Sample_Identifier \\\n",
    "    --o-visualization longitudinal/first-distances.qzv"
   ]
  },
  {
   "cell_type": "markdown",
   "metadata": {},
   "source": [
    "## Track rate of change in beta diversity from the first month"
   ]
  },
  {
   "cell_type": "code",
   "execution_count": null,
   "metadata": {},
   "outputs": [],
   "source": [
    "%%bash\n",
    "qiime longitudinal first-distances \\\n",
    "    --i-distance-matrix AR-core-metrics-results/unweighted_unifrac_distance_matrix.qza \\\n",
    "    --m-metadata-file sample-metadata.tsv \\\n",
    "    --p-state-column Months_Since_Start \\\n",
    "    --p-individual-id-column Sample_Identifier \\\n",
    "    --p-replicate-handling random \\\n",
    "    --p-baseline 2 \\\n",
    "    --o-first-distances longitudinal/first-distances-baseline-month2.qza\n",
    "\n",
    "# visualize the results\n",
    "qiime longitudinal volatility \\\n",
    "    --m-metadata-file sample-metadata.tsv \\\n",
    "    --m-metadata-file longitudinal/first-distances-baseline-month2.qza \\\n",
    "    --p-default-metric Distance \\\n",
    "    --p-default-group-column Pipe_Material \\\n",
    "    --p-state-column Months_Since_Start \\\n",
    "    --p-individual-id-column Sample_Identifier \\\n",
    "    --o-visualization longitudinal/first-distances-baseline-month2.qzv"
   ]
  },
  {
   "cell_type": "markdown",
   "metadata": {},
   "source": [
    "## Handoff these results to R for plotting and significance testing in R\n",
    "\n",
    "see scripts in /bin/scripts/ for plotting beta diversity and adonis PERMANOVA analysis (`nmit-adonis-test.R`).\n",
    "\n",
    "## Test for differentially abundant features - Longitudinal ANCOM\n",
    "\n",
    "longitudinal diiferential abundance testing was performed in R using the script `longitudinal_ANCOM.R`. Ths"
   ]
  },
  {
   "cell_type": "markdown",
   "metadata": {},
   "source": [
    "### Alternatively, split into single pipe materials tables and perform significance testing\n",
    "\n",
    "Instead of doing a two-factor test (which is not allowed in QIIME2) we can split the table by pipe material and then test for significance. First, create a newcategorical variable to test on - Start_Cal, the Months_Since_Start-Calendar_Month. Then filter any data from the table that has only one measurement for any given Start_Cal. Then split by Pipe_Material, recalculate core-metrics, and then significance test."
   ]
  },
  {
   "cell_type": "code",
   "execution_count": null,
   "metadata": {},
   "outputs": [],
   "source": [
    "%%bash\n",
    "# Remove time points with only a single sample - these can't be permuted\n",
    "qiime feature-table filter-samples \\\n",
    "    --i-table AR-filtered-table.qza \\\n",
    "    --m-metadata-file sample-metadata.tsv \\\n",
    "    --p-where \"Start_Cal NOT IN ('12-Jun', '13-Jul', '14-Aug', '15-Sep', '16-Oct')\" \\\n",
    "    --o-filtered-table AR-complete-samples-table.qza\n",
    "\n",
    "# Now split into Pipe_Material Tables\n",
    "qiime feature-table filter-samples \\\n",
    "    --i-table AR-complete-samples-table.qza \\\n",
    "    --m-metadata-file sample-metadata.tsv \\\n",
    "    --p-where \"Pipe_Material = 'Cast Iron'\" \\\n",
    "    --o-filtered-table cast-iron-table2.qza\n",
    "    \n",
    "qiime feature-table filter-samples \\\n",
    "    --i-table AR-complete-samples-table.qza \\\n",
    "    --m-metadata-file sample-metadata.tsv \\\n",
    "    --p-where \"Pipe_Material = 'Cement'\" \\\n",
    "    --o-filtered-table cement-table2.qza\n",
    "\n",
    "# Calculate core-metrics for each\n",
    "qiime diversity core-metrics-phylogenetic \\\n",
    "    --i-table cast-iron-table2.qza \\\n",
    "    --i-phylogeny rooted-tree.qza \\\n",
    "    --p-sampling-depth 34585 \\\n",
    "    --m-metadata-file sample-metadata.tsv \\\n",
    "    --output-dir cast-iron-core-metrics-results2\n",
    "    \n",
    "qiime diversity core-metrics-phylogenetic \\\n",
    "    --i-table cement-table2.qza \\\n",
    "    --i-phylogeny rooted-tree.qza \\\n",
    "    --p-sampling-depth 34585 \\\n",
    "    --m-metadata-file sample-metadata.tsv \\\n",
    "    --output-dir cement-core-metrics-results2\n",
    "\n",
    "# Perform One-Way PERMANOVA on Start_Cal for each\n",
    "qiime diversity beta-group-significance \\\n",
    "    --i-distance-matrix cast-iron-core-metrics-results2/unweighted_unifrac_distance_matrix.qza \\\n",
    "    --m-metadata-file sample-metadata.tsv \\\n",
    "    --m-metadata-column Start_Cal \\\n",
    "    --p-pairwise \\\n",
    "    --o-visualization cast-iron-core-metrics-results2/uUnifrac-Start_Cal-permanova.qzv\n",
    " \n",
    "qiime diversity beta-group-significance \\\n",
    "   --i-distance-matrix cement-core-metrics-results2/unweighted_unifrac_distance_matrix.qza \\\n",
    "   --m-metadata-file sample-metadata.tsv \\\n",
    "   --m-metadata-column Start_Cal \\\n",
    "   --p-pairwise \\\n",
    "   --o-visualization cement-core-metrics-results2/uUnifrac-Start_Cal-permanova.qzv\n",
    " \n",
    "# How about Season?\n",
    "qiime diversity beta-group-significance \\\n",
    "    --i-distance-matrix cast-iron-core-metrics-results2/unweighted_unifrac_distance_matrix.qza \\\n",
    "    --m-metadata-file sample-metadata.tsv \\\n",
    "    --m-metadata-column Season \\\n",
    "    --p-pairwise \\\n",
    "    --o-visualization cast-iron-core-metrics-results2/uUnifrac-Season-permanova.qzv\n",
    " \n",
    "qiime diversity beta-group-significance \\\n",
    "   --i-distance-matrix cement-core-metrics-results2/unweighted_unifrac_distance_matrix.qza \\\n",
    "   --m-metadata-file sample-metadata.tsv \\\n",
    "   --m-metadata-column Season \\\n",
    "   --p-pairwise \\\n",
    "   --o-visualization cement-core-metrics-results2/uUnifrac-Season-permanova.qzv"
   ]
  }
 ],
 "metadata": {
  "kernelspec": {
   "display_name": "Python 3",
   "language": "python",
   "name": "python3"
  },
  "language_info": {
   "codemirror_mode": {
    "name": "ipython",
    "version": 3
   },
   "file_extension": ".py",
   "mimetype": "text/x-python",
   "name": "python",
   "nbconvert_exporter": "python",
   "pygments_lexer": "ipython3",
   "version": "3.6.7"
  }
 },
 "nbformat": 4,
 "nbformat_minor": 2
}
