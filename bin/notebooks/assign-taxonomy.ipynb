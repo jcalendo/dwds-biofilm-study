{
 "cells": [
  {
   "cell_type": "markdown",
   "metadata": {},
   "source": [
    "# Assign Taxonomy\n",
    "\n",
    "The next step is to assign taxonomy by first training a naive-bayes classifier on a known reference set (SILVA 132 ref) by targetting the same region as our primers. The next step is to fit that classifier onto our representative sequences. Just like the DADA2 pipeline, it is best to run each of these steps in a `tmux` session."
   ]
  },
  {
   "cell_type": "markdown",
   "metadata": {},
   "source": [
    "## Import SILVA data\n",
    "\n",
    "import the reference sequences and the reference taxonomy. The SILVA reference set formatted for qiime2 is located [here](https://www.arb-silva.de/download/archive/qiime/). We will import the 99% references sequences and the majority 7 level taxonomy files. \n",
    "\n",
    "**note**: the training and classifying is being performed in a subdirectory `train-feature-classifier`."
   ]
  },
  {
   "cell_type": "code",
   "execution_count": null,
   "metadata": {},
   "outputs": [],
   "source": [
    "%%bash\n",
    "qiime tools import \\\n",
    "  --type 'FeatureData[Sequence]' \\\n",
    "  --input-path train-feature-classifier/silva132_99.fna \\\n",
    "  --output-path train-feature-classifier/silva132_99.qza\n",
    "\n",
    "qiime tools import \\\n",
    "  --type 'FeatureData[Taxonomy]' \\\n",
    "  --input-format HeaderlessTSVTaxonomyFormat \\\n",
    "  --input-path train-feature-classifier/majority_taxonomy_7_levels.txt \\\n",
    "  --output-path train-feature-classifier/majority_taxonomy_7_levels.qza"
   ]
  },
  {
   "cell_type": "markdown",
   "metadata": {},
   "source": [
    "## Extract reference reads\n",
    "\n",
    "Extract the target region from the reference reads. Use the primer pair noted in \"Heather Biofilm Data Analysis.doc\" shared file."
   ]
  },
  {
   "cell_type": "code",
   "execution_count": null,
   "metadata": {},
   "outputs": [],
   "source": [
    "%%bash\n",
    "qiime feature-classifier extract-reads \\\n",
    "  --i-sequences train-feature-classifier/silva132_99.qza \\\n",
    "  --p-f-primer GCCTACGGGNGGCWGCAG \\\n",
    "  --p-r-primer GGACTACHVGGGTATCTAATCC \\\n",
    "  --o-reads train-feature-classifier/silva132_99_trained_dataset.qza"
   ]
  },
  {
   "cell_type": "markdown",
   "metadata": {},
   "source": [
    "## Train the feature classifier"
   ]
  },
  {
   "cell_type": "code",
   "execution_count": null,
   "metadata": {},
   "outputs": [],
   "source": [
    "%%bash\n",
    "qiime feature-classifier fit-classifier-naive-bayes \\\n",
    "  --i-reference-reads train-feature-classifier/silva132_99_trained_dataset.qza \\\n",
    "  --i-reference-taxonomy train-feature-classifier/majority_7_levels.qza \\\n",
    "  --o-classifier train-feature-classifier/classifier.qza"
   ]
  },
  {
   "cell_type": "markdown",
   "metadata": {},
   "source": [
    "## Fit the classifier to our representative reads"
   ]
  },
  {
   "cell_type": "code",
   "execution_count": null,
   "metadata": {},
   "outputs": [],
   "source": [
    "%%bash\n",
    "qiime feature-classifier classify-sklearn \\\n",
    "    --i-classifier train-classifier/classifier.qza \\\n",
    "    --i-reads rep-seqs.qza \\\n",
    "    --p-n-jobs 32 \\\n",
    "    --o-classification taxonomy.qza"
   ]
  },
  {
   "cell_type": "markdown",
   "metadata": {},
   "source": [
    "## Inspect the resulting taxonomy"
   ]
  },
  {
   "cell_type": "code",
   "execution_count": null,
   "metadata": {},
   "outputs": [],
   "source": [
    "%%bash\n",
    "qiime metadata tabulate \\\n",
    "    --m-input-file taxonomy.qza \\\n",
    "    --o-visualization taxonomy.qzv"
   ]
  }
 ],
 "metadata": {
  "kernelspec": {
   "display_name": "Python 3",
   "language": "python",
   "name": "python3"
  },
  "language_info": {
   "codemirror_mode": {
    "name": "ipython",
    "version": 3
   },
   "file_extension": ".py",
   "mimetype": "text/x-python",
   "name": "python",
   "nbconvert_exporter": "python",
   "pygments_lexer": "ipython3",
   "version": "3.6.7"
  }
 },
 "nbformat": 4,
 "nbformat_minor": 2
}
