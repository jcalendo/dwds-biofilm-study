{
 "cells": [
  {
   "cell_type": "markdown",
   "metadata": {},
   "source": [
    "# Perform Alpha Diversity Calculations\n",
    "\n",
    "This file is rather long but details the methodology and ideas behind some of the measurements performed.\n",
    "\n",
    "## Alpha and Beta Diversity Review\n",
    "\n",
    "`core-metrics-phylogenetic` rarifies a `FeatureTable[Frequency]` to a user specified depth, computes several alpha and beta diversity metrics, and generates PCoA plots using Emperor for each of the beta diversity metrics.\n",
    "\n",
    "### What is a diversity index?\n",
    "\n",
    "A diversity index is a mathematical measure of species diversity in (or between) a community. Diversity indeces provide more information about community composition than simply species richness (i.e. the number of species present); they also take into account the relative abundance of differenr species into account.\n",
    "\n",
    "### Alpha Diversity\n",
    "\n",
    "Alpha Diversity refers to the average species diversity in a habitat or specific area. Alpha Diversity is a local measure.\n",
    "\n",
    "#### Shannon's Diversity Index\n",
    "\n",
    "Shannon's Diversity index accounts for both abundance and evenness of the species present. The proportion of species $i$ relative to the total number of species ($p_{i}$) is calculated and then multiplied by the natural logarithm of this proportion ($\\ln p_i$). The resulting product is summed across species and multiplied by $-1$. Where $S$ is the total number of species in the community. \n",
    "\n",
    "$$H = - \\sum\\limits_{j=1}^S p_j \\ln p_j $$\n",
    "\n",
    "#### Observed OTUs\n",
    "\n",
    "Basically groupings of 'things' observed. In our case Observed OTUs would mean the operational taxonomic units are sequences that cluster together. This clustering is usually performed when sequences share 97% similarity. The thought is that these OTUs at 97% similarity correspond roughly to species. This clustering may fail because:\n",
    "\n",
    "1. some species share more than 97% similarity at one locus\n",
    "2. A single species may have paralogs that are < 97% similar, causing the species to be split across OTUs\n",
    "3. some cluster may be spurioys due to artifacts\n",
    "\n",
    "#### Faith's Phylogenetic Diversity\n",
    "\n",
    "incorporates the phylogenetic difference between species. calculated as the sum of the lengths of all those branches that are members of the corresponding minimum spanning path, in which 'branch' is a segment of a cladogram, and the minimum spanning path is the minimum distance between the to nodes.\n",
    "\n",
    "#### Evenness\n",
    "\n",
    "How close in numbers each species in an environment is. \n",
    "\n",
    "### Beta Diversity\n",
    "\n",
    "Beta Diversity refers to the ratio between local (alpha) diversity and regional diversity. This is the diversity of species between two habitats or regions.\n",
    "\n",
    "#### Jaccard Distance\n",
    "\n",
    "The jaccard distance uses the presence/absence of data and ignores abundance measures. \n",
    "\n",
    "$$S_j = \\frac{A}{A + B + C}$$\n",
    "\n",
    "where $S_j$ is the Jaccard similarity coefficient\n",
    "\n",
    "A is the number of shared species\n",
    "\n",
    "B is number of species unique to the first sample\n",
    "\n",
    "C is the number of species unique to the second sample\n",
    "\n",
    "#### Bray-Curtis dissimilarity\n",
    "\n",
    "Used to quantify the compositional dissimilarity between two different sites, based on counts at each site.\n",
    "\n",
    "$$BC_{ij} = 1 - \\frac{2C_ij}{S_i + S_j}$$\n",
    "\n",
    "where $C_{ij}$ is the sum of the lesser values for only those species in common between both sites. $S_i$ and $S_j$ are the total number of specimens counted at both sites.\n",
    "\n",
    "#### Unweighted UniFrac distance\n",
    "\n",
    "Distance metric that incorporates information on the relative relatedness of community members by incorporating phylogenetic distances between observed organisms in the computation. Both Weighted (quantitative) and Unweighted (qualitative) variants are used. The Unweighted only considers the presence or absence of observed organisms in a sample.\n",
    "\n",
    "#### Weighted Unifrac distance\n",
    "\n",
    "The Weighted unifrac distance accounts for the abundance of observed organisms in a sample.\n",
    "\n",
    "### Sampling Depth\n",
    "\n",
    "`sampling_depth` is an important parameter that must be provided for these scripts (i.e. rarefaction depth). Because most diversity metrics are sensitive different sampling depths across different samples, this script will randomly subsample the counts for each sample to the value provided for this parameter. Qiime2 documentation recommends making this choice by reviewing `table.qzv` and choosing a value that is as high as possible (so that you retain more sequences per sample) while excluding as few samples as possible.\n",
    "\n",
    "---"
   ]
  },
  {
   "cell_type": "markdown",
   "metadata": {},
   "source": [
    "## Split into only AR table\n",
    "\n",
    "Since we are most interested in the pipe samples (Cast Iron and Cement) we can filter the feature table down to include only those samples. Additionally, we can perform the same filtering to include the pipe-biofilm samples as well."
   ]
  },
  {
   "cell_type": "code",
   "execution_count": null,
   "metadata": {},
   "outputs": [],
   "source": [
    "%%bash\n",
    "qiime feature-table filter-samples \\\n",
    "    --i-table decontam-taxa-filtered-table.qza \\\n",
    "    --m-metadata-file sample-metadata.tsv \\\n",
    "    --p-where \"Sample_Type = 'AR'\" \\\n",
    "    --o-filtered-table AR-table.qza\n",
    "\n",
    "# Create table tncluding ARs and Pipe Biofilm\n",
    "qiime feature-table filter-samples \\\n",
    "    --i-table decontam-taxa-filtered-table.qza \\\n",
    "    --m-metadata-file sample-metadata.tsv \\\n",
    "    --p-where \"Sample_Type = 'AR' OR Sample_Type = 'Pipe Biofilm'\" \\\n",
    "    --o-filtered-table biofilm-table.qza"
   ]
  },
  {
   "cell_type": "markdown",
   "metadata": {},
   "source": [
    "## Filter features only present in one sample\n",
    "\n",
    "This step is important to perform aain so that we can remove possibly spurious features"
   ]
  },
  {
   "cell_type": "code",
   "execution_count": null,
   "metadata": {},
   "outputs": [],
   "source": [
    "%%bash\n",
    "qiime feature-table filter-features \\\n",
    "    --i-table AR-table.qza \\\n",
    "    --p-min-samples 2 \\\n",
    "    --o-filtered-table AR-filtered-table.qza\n",
    "    \n",
    "# and for the biofilm included table\n",
    "qiime feature-table filter-features \\\n",
    "    --i-table biofilm-table.qza \\\n",
    "    --p-min-samples 2 \\\n",
    "    --o-filtered-table biofilm-filtered-table.qza"
   ]
  },
  {
   "cell_type": "markdown",
   "metadata": {},
   "source": [
    "### Visualize the new tables"
   ]
  },
  {
   "cell_type": "code",
   "execution_count": null,
   "metadata": {},
   "outputs": [],
   "source": [
    "%%bash\n",
    "qiime feature-table summarize \\\n",
    "    --i-table AR-filtered-table.qza \\\n",
    "    --o-visualization AR-filtered-table.qzv \\\n",
    "    --m-sample-metadata-file sample-metadata.tsv\n",
    "\n",
    "qiime feature-table summarize \\\n",
    "    --i-table biofilm-filtered-table.qza \\\n",
    "    --o-visualization biofilm-filtered-table.qzv \\\n",
    "    --m-sample-metadata-file sample-metadata.tsv"
   ]
  },
  {
   "cell_type": "markdown",
   "metadata": {},
   "source": [
    "## Compute Core Diversity Metrics\n",
    "\n",
    "Perform for both AR only table and AR-biofilm table"
   ]
  },
  {
   "cell_type": "code",
   "execution_count": null,
   "metadata": {},
   "outputs": [],
   "source": [
    "%%bash\n",
    "qiime diversity core-metrics-phylogenetic \\\n",
    "    --i-table AR-filtered-table.qza \\\n",
    "    --i-phylogeny rooted-tree.qza \\\n",
    "    --p-sampling-depth 34585 \\\n",
    "    --m-metadata-file sample-metadata.tsv \\\n",
    "    --output-dir AR-core-metrics-results\n",
    "\n",
    "\n",
    "qiime diversity core-metrics-phylogenetic \\\n",
    "    --i-table biofilm-filtered-table.qza \\\n",
    "    --i-phylogeny rooted-tree.qza \\\n",
    "    --p-sampling-depth 10204 \\\n",
    "    --m-metadata-file sample-metadata.tsv \\\n",
    "    --output-dir biofilm-core-metrics-results"
   ]
  },
  {
   "cell_type": "markdown",
   "metadata": {},
   "source": [
    "## Create rareified table for metrics not included in core-metrics\n",
    "\n",
    "Since Simpson diversity is not in the `core-metrics` pipeline we must create a separate rarefied table to perform the Simpson diversity metric on. "
   ]
  },
  {
   "cell_type": "code",
   "execution_count": null,
   "metadata": {},
   "outputs": [],
   "source": [
    "%%bash\n",
    "qiime feature-table rarefy \\\n",
    "    --i-table AR-filtered-table.qza \\\n",
    "    --p-sampling-depth 34585 \\\n",
    "    --o-rarefied-table AR-rarefied-filtered-table.qza\n",
    "    \n",
    "# biofilm included\n",
    "qiime feature-table rarefy \\\n",
    "    --i-table biofilm-filtered-table.qza \\\n",
    "    --p-sampling-depth 10204 \\\n",
    "    --o-rarefied-table biofilm-rarefied-filtered-table.qza"
   ]
  },
  {
   "cell_type": "markdown",
   "metadata": {},
   "source": [
    "## Calculate Simpson Diversity\n",
    "\n",
    "Save results back into `core-metrics-results` directory. "
   ]
  },
  {
   "cell_type": "code",
   "execution_count": null,
   "metadata": {},
   "outputs": [],
   "source": [
    "%%bash\n",
    "qiime diversity alpha \\\n",
    "    --i-table AR-rarefied-filtered-table.qza \\\n",
    "    --p-metric simpson \\\n",
    "    --o-alpha-diversity AR-core-metrics-results/simpson_vector.qza\n",
    "\n",
    "# including biofilm\n",
    "qiime diversity alpha \\\n",
    "    --i-table biofilm-rarefied-filtered-table.qza \\\n",
    "    --p-metric simpson \\\n",
    "    --o-alpha-diversity biofilm-core-metrics-results/simpson_vector.qza"
   ]
  },
  {
   "cell_type": "markdown",
   "metadata": {},
   "source": [
    "### Visualize - Shannon Diversity"
   ]
  },
  {
   "cell_type": "code",
   "execution_count": null,
   "metadata": {},
   "outputs": [],
   "source": [
    "%%bash\n",
    "qiime diversity alpha-group-significance \\\n",
    "    --i-alpha-diversity AR-core-metrics-results/shannon_vector.qza \\\n",
    "    --m-metadata-file sample-metadata.tsv \\\n",
    "    --o-visualization AR-core-metrics-resultss/shannon-group-significance.qzv\n",
    "\n",
    "# including biofilm\n",
    "qiime diversity alpha-group-significance \\\n",
    "    --i-alpha-diversity biofilm-core-metrics-results/shannon_vector.qza \\\n",
    "    --m-metadata-file sample-metadata.tsv \\\n",
    "    --o-visualization biofilm-core-metrics-results/shannon-group-significance.qzv"
   ]
  },
  {
   "cell_type": "markdown",
   "metadata": {},
   "source": [
    "### Visualize - Simpson Diversity"
   ]
  },
  {
   "cell_type": "code",
   "execution_count": null,
   "metadata": {},
   "outputs": [],
   "source": [
    "%%bash\n",
    "qiime diversity alpha-group-significance \\\n",
    "    --i-alpha-diversity AR-core-metrics-results/simpson_vector.qza \\\n",
    "    --m-metadata-file sample-metadata.tsv \\\n",
    "    --o-visualization AR-core-metrics-results/simpson-group-significance.qzv\n",
    "\n",
    "# including biofilm\n",
    "qiime diversity alpha-group-significance \\\n",
    "    --i-alpha-diversity biofilm-core-metrics-results/simpson_vector.qza \\\n",
    "    --m-metadata-file sample-metadata.tsv \\\n",
    "    --o-visualization biofilm-core-metrics-results/simpson-group-significance.qzv"
   ]
  },
  {
   "cell_type": "markdown",
   "metadata": {},
   "source": [
    "### Visualize - Faith PD"
   ]
  },
  {
   "cell_type": "code",
   "execution_count": null,
   "metadata": {},
   "outputs": [],
   "source": [
    "%%bash\n",
    "qiime diversity alpha-group-significance \\\n",
    "    --i-alpha-diversity AR-core-metrics-results/faith_pd_vector.qza \\\n",
    "    --m-metadata-file sample-metadata.tsv \\\n",
    "    --o-visualization AR-core-metrics-results/faith-pd-group-significance.qzv\n",
    "\n",
    "# including biofilm\n",
    "qiime diversity alpha-group-significance \\\n",
    "    --i-alpha-diversity biofilm-core-metrics-results/faith_pd_vector.qza \\\n",
    "    --m-metadata-file sample-metadata.tsv \\\n",
    "    --o-visualization biofilm-core-metrics-results/faith-pd-group-significance.qzv"
   ]
  },
  {
   "cell_type": "markdown",
   "metadata": {},
   "source": [
    "## Determine whether any numeric metadata column correlates with alpha diversity"
   ]
  },
  {
   "cell_type": "code",
   "execution_count": null,
   "metadata": {},
   "outputs": [],
   "source": [
    "%%bash\n",
    "# faith-pd\n",
    "qiime diversity alpha-correlation \\\n",
    "    --i-alpha-diversity AR-core-metrics-results/faith_pd_vector.qza \\\n",
    "    --m-metadata-file sample-metadata.tsv \\\n",
    "    --o-visualization AR-core-metrics-results/faith-correlation.qzv\n",
    "\n",
    "# simpson diversity\n",
    "qiime diversity alpha-correlation \\\n",
    "    --i-alpha-diversity AR-core-metrics-results/simpson_vector.qza \\\n",
    "    --m-metadata-file sample-metadata.tsv \\\n",
    "    --o-visualization AR-core-metrics-results/simpson-correlation.qzv\n",
    "\n",
    "# shannon diversity\n",
    "qiime diversity alpha-correlation \\\n",
    "    --i-alpha-diversity AR-core-metrics-results/shannon_vector.qza \\\n",
    "    --m-metadata-file sample-metadata.tsv \\\n",
    "    --o-visualization AR-core-metrics-results/shannon-correlation.qzv"
   ]
  },
  {
   "cell_type": "markdown",
   "metadata": {},
   "source": [
    "## Split feature table by pipe to test for pipe-specific correlations\n",
    "\n",
    "The next cell will mirror the analysis perfomed above only of features tables that include only the cast iron or cement pipe materials"
   ]
  },
  {
   "cell_type": "code",
   "execution_count": null,
   "metadata": {},
   "outputs": [],
   "source": [
    "%%bash\n",
    "# Split into Cast Iron and Cement Tables\n",
    "qiime feature-table filter-samples \\\n",
    "    --i-table AR-filtered-table.qza \\\n",
    "    --m-metadata-file sample-metadata.tsv \\\n",
    "    --p-where \"Pipe_Material = 'Cast Iron'\" \\\n",
    "    --o-filtered-table cast-iron-table.qza\n",
    "    \n",
    "qiime feature-table filter-samples \\\n",
    "    --i-table AR-filtered-table.qza \\\n",
    "    --m-metadata-file sample-metadata.tsv \\\n",
    "    --p-where \"Pipe_Material = 'Cement'\" \\\n",
    "    --o-filtered-table cement-table.qza\n",
    "\n",
    "# Calculate core-metrics for each\n",
    "qiime diversity core-metrics-phylogenetic \\\n",
    "    --i-table cast-iron-table.qza \\\n",
    "    --i-phylogeny rooted-tree.qza \\\n",
    "    --p-sampling-depth 34585 \\\n",
    "    --m-metadata-file sample-metadata.tsv \\\n",
    "    --output-dir cast-iron-core-metrics-results\n",
    "    \n",
    "qiime diversity core-metrics-phylogenetic \\\n",
    "    --i-table cement-table.qza \\\n",
    "    --i-phylogeny rooted-tree.qza \\\n",
    "    --p-sampling-depth 34585 \\\n",
    "    --m-metadata-file sample-metadata.tsv \\\n",
    "    --output-dir cement-core-metrics-results\n",
    "\n",
    "# Perform correlation testing\n",
    "qiime diversity alpha-correlation \\\n",
    "    --i-alpha-diversity cast-iron-core-metrics-results/faith_pd_vector.qza \\\n",
    "    --m-metadata-file sample-metadata.tsv \\\n",
    "    --o-visualization cast-iron-core-metrics-results/faith-correlation.qzv\n",
    "    \n",
    "qiime diversity alpha-correlation \\\n",
    "    --i-alpha-diversity cast-iron-core-metrics-results/shannon_vector.qza \\\n",
    "    --m-metadata-file sample-metadata.tsv \\\n",
    "    --o-visualization cast-iron-core-metrics-results/shannon-correlation.qzv\n",
    "    \n",
    "qiime diversity alpha-correlation \\\n",
    "    --i-alpha-diversity cement-core-metrics-results/faith_pd_vector.qza \\\n",
    "    --m-metadata-file sample-metadata.tsv \\\n",
    "    --o-visualization cement-core-metrics-results/faith-correlation.qzv\n",
    "    \n",
    "qiime diversity alpha-correlation \\\n",
    "    --i-alpha-diversity cement-core-metrics-results/shannon_vector.qza \\\n",
    "    --m-metadata-file sample-metadata.tsv \\\n",
    "    --o-visualization cement-core-metrics-results/shannon-correlation.qzv\n",
    "\n",
    "# Perform significance testing\n",
    "qiime diversity alpha-group-significance \\\n",
    "    --i-alpha-diversity cast-iron-core-metrics-results/faith_pd_vector.qza \\\n",
    "    --m-metadata-file sample-metadata.tsv \\\n",
    "    --o-visualization cast-iron-core-metrics-results/faith-alpha-group-significance.qzv\n",
    "    \n",
    "qiime diversity alpha-group-significance \\\n",
    "    --i-alpha-diversity cast-iron-core-metrics-results/shannon_vector.qza \\\n",
    "    --m-metadata-file sample-metadata.tsv \\\n",
    "    --o-visualization cast-iron-core-metrics-results/shannon-alpha-group-significance.qzv\n",
    "    \n",
    "qiime diversity alpha-group-significance \\\n",
    "    --i-alpha-diversity cement-core-metrics-results/faith_pd_vector.qza \\\n",
    "    --m-metadata-file sample-metadata.tsv \\\n",
    "    --o-visualization cement-core-metrics-results/faith-alpha-group-significance.qzv\n",
    "    \n",
    "qiime diversity alpha-group-significance \\\n",
    "    --i-alpha-diversity cement-core-metrics-results/shannon_vector.qza \\\n",
    "    --m-metadata-file sample-metadata.tsv \\\n",
    "    --o-visualization cement-core-metrics-results/shannon-alpha-group-significance.qzv"
   ]
  },
  {
   "cell_type": "markdown",
   "metadata": {},
   "source": [
    "## Handoff the results to R for plotting\n",
    "\n",
    "See the `plot-alpha-diversity.R` and `plot-alpha-correlation.R` scripts in the /bin/scripts/ directory."
   ]
  },
  {
   "cell_type": "markdown",
   "metadata": {},
   "source": [
    "## Alpha Rarefaction Plot of AR samples\n",
    "\n",
    "To see if our sampling depth was deep enough we can create a rarefaction plot at different depths. The results below indicate that our sampling at ~34,000 read depth was more than sufficient (i.e. the a-diversity metrics plateau)"
   ]
  },
  {
   "cell_type": "code",
   "execution_count": null,
   "metadata": {},
   "outputs": [],
   "source": [
    "%%bash\n",
    "qiime diversity alpha-rarefaction \\\n",
    "    --i-table AR-table.qza \\\n",
    "    --p-max-depth 80000 \\\n",
    "    --p-metrics simpson \\\n",
    "    --m-metadata-file sample-metadata.tsv \\\n",
    "    --p-min-depth 5000 \\\n",
    "    --o-visualization AR-rarefaction-curve.qzv\n",
    "\n",
    "# with Biofilm\n",
    "qiime diversity alpha-rarefaction \\\n",
    "    --i-table biofilm-filtered-table.qza \\\n",
    "    --p-max-depth 80000 \\\n",
    "    --p-metrics simpson \\\n",
    "    --m-metadata-file sample-metadata.tsv \\\n",
    "    --p-min-depth 5000 \\\n",
    "    --o-visualization biofilm-rarefaction-curve.qzv"
   ]
  }
 ],
 "metadata": {
  "kernelspec": {
   "display_name": "Python 3",
   "language": "python",
   "name": "python3"
  },
  "language_info": {
   "codemirror_mode": {
    "name": "ipython",
    "version": 3
   },
   "file_extension": ".py",
   "mimetype": "text/x-python",
   "name": "python",
   "nbconvert_exporter": "python",
   "pygments_lexer": "ipython3",
   "version": "3.6.7"
  }
 },
 "nbformat": 4,
 "nbformat_minor": 2
}
