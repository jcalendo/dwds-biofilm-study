{
 "cells": [
  {
   "cell_type": "markdown",
   "metadata": {},
   "source": [
    "# Import Sequences into Qiime2 and trim adapters\n",
    "\n",
    "This is the first step in the analysis. Read in the raw sequences and then trim the sequences of their adapters. Non of these steps take a particularly long time an can thus be run locally instead of on a cluster or server.\n",
    "\n",
    "## Import Demultiplexed Sequences\n",
    "\n",
    "Since the sequencing was performed in two different runs it is best practice to process both runs seprately and then later merge the feature tables and sequences."
   ]
  },
  {
   "cell_type": "code",
   "execution_count": null,
   "metadata": {},
   "outputs": [],
   "source": [
    "%%bash\n",
    "qiime tools import \\\n",
    "  --type 'SampleData[PairedEndSequencesWithQuality]' \\\n",
    "  --input-path batch_1_reads/ \\\n",
    "  --input-format CasavaOneEightSingleLanePerSampleDirFmt \\\n",
    "  --output-path batch1-demux-paired-end.qza\n",
    "\n",
    "qiime tools import \\\n",
    "  --type 'SampleData[PairedEndSequencesWithQuality]' \\\n",
    "  --input-path batch_2_reads/ \\\n",
    "  --input-format CasavaOneEightSingleLanePerSampleDirFmt \\\n",
    "  --output-path batch2-demux-paired-end.qza"
   ]
  },
  {
   "cell_type": "markdown",
   "metadata": {},
   "source": [
    "## Summarize the demultiplexed sequences\n",
    "\n",
    "Since the sequences have already been demuxed we can summarize the 'demux-paired-end.qza' files as is. Generate a summary of the demultiplexing results to:\n",
    "\n",
    "- determine how many sequences were obtained per sample\n",
    "- get a summary of the distribution of sequence qualities at each position in the sequence data."
   ]
  },
  {
   "cell_type": "code",
   "execution_count": null,
   "metadata": {},
   "outputs": [],
   "source": [
    "%%bash\n",
    "qiime demux summarize \\\n",
    "   --i-data batch1-demux-paired-end.qza \\\n",
    "   --o-visualization batch1-demux-paired-end-summary.qzv\n",
    "   \n",
    "qiime demux summarize \\\n",
    "   --i-data batch2-demux-paired-end.qza \\\n",
    "   --o-visualization batch2-demux-paired-end-summary.qzv"
   ]
  },
  {
   "cell_type": "markdown",
   "metadata": {},
   "source": [
    "## Trim adapters from the demuxed reads\n",
    "\n",
    "Since adapters are still present on the sequences we can use CutAdapt to trim them before using them as input to DAD2 (which may result in undesirable effects if not controlled)."
   ]
  },
  {
   "cell_type": "code",
   "execution_count": null,
   "metadata": {},
   "outputs": [],
   "source": [
    "%%bash\n",
    "qiime cutadapt trim-paired \\\n",
    "    --i-demultiplexed-sequences batch1-demux-paired-end.qza \\\n",
    "    --p-cores 16 \\\n",
    "    --p-front-f GCCTACGGGNGGCWGCAG \\\n",
    "    --p-front-r GGACTACHVGGGTATCTAATCC \\\n",
    "    --output-dir b1-trimmed-demuxed-seqs\n",
    "    \n",
    "# batch 2    \n",
    "qiime cutadapt trim-paired \\\n",
    "    --i-demultiplexed-sequences batch2-demux-paired-end.qza \\\n",
    "    --p-cores 16 \\\n",
    "    --p-front-f GCCTACGGGNGGCWGCAG \\\n",
    "    --p-front-r GGACTACHVGGGTATCTAATCC \\\n",
    "    --output-dir b2-trimmed-demuxed-seqs"
   ]
  },
  {
   "cell_type": "markdown",
   "metadata": {},
   "source": [
    "### Summarize and visualize the trimmed sequences\n",
    "\n",
    "This will give us insights into the quality of the reads"
   ]
  },
  {
   "cell_type": "code",
   "execution_count": null,
   "metadata": {},
   "outputs": [],
   "source": [
    "%%bash\n",
    "qiime demux summarize \\\n",
    "   --i-data b1-trimmed-demuxed-seqs/trimmed_sequences.qza \\\n",
    "   --o-visualization b1-trimmed-sequences.qzv\n",
    "   \n",
    "qiime demux summarize \\\n",
    "   --i-data b2-trimmed-demuxed-seqs/trimmed_sequences.qza \\\n",
    "   --o-visualization b2-trimmed-sequences.qzv"
   ]
  },
  {
   "cell_type": "markdown",
   "metadata": {},
   "source": [
    "We can then use `qiime tools view b[12]-trimmed-sequences.qzv` to inspect the quality of the reads prior to performing denoising with DADA2"
   ]
  }
 ],
 "metadata": {
  "kernelspec": {
   "display_name": "Python 3",
   "language": "python",
   "name": "python3"
  },
  "language_info": {
   "codemirror_mode": {
    "name": "ipython",
    "version": 3
   },
   "file_extension": ".py",
   "mimetype": "text/x-python",
   "name": "python",
   "nbconvert_exporter": "python",
   "pygments_lexer": "ipython3",
   "version": "3.6.7"
  }
 },
 "nbformat": 4,
 "nbformat_minor": 2
}
