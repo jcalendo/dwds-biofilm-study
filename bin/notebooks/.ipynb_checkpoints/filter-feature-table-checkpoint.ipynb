{
 "cells": [
  {
   "cell_type": "markdown",
   "metadata": {},
   "source": [
    "# Filter Feature Table\n",
    "\n",
    "This step will set up the 'base' feature table. We must remove sequences that are either contaminants or spurious. To remove contaminants and low abundance features from the feature table. We can break this down into two strategies:\n",
    "\n",
    "1. `qiime feature-table filter-features` using --p-min-samples = 2\n",
    "2. `qiime taxa filter-table` to retain features only if they were observed at the phylum level\n",
    "3. finally, removal of identified contaminants\n",
    "\n",
    "Following the filtering of the feature table, then filter the rep-seqs.qza file to only include the features that are in the filtered table. The filtered-rep-seqs.qza file will then be used for tree building. \n",
    "\n",
    "The Rscript `identify-contaminants.R` was used to identify contaminants. This script is located in /bin/scripts/"
   ]
  },
  {
   "cell_type": "markdown",
   "metadata": {},
   "source": [
    "## Filter features that appear in only one sample\n",
    "\n",
    "These are most likely spurious"
   ]
  },
  {
   "cell_type": "code",
   "execution_count": null,
   "metadata": {},
   "outputs": [],
   "source": [
    "%%bash\n",
    "qiime feature-table filter-features \\\n",
    "    --i-table table.qza \\\n",
    "    --p-min-samples 2 \\\n",
    "    --o-filtered-table filtered-table.qza"
   ]
  },
  {
   "cell_type": "markdown",
   "metadata": {},
   "source": [
    "## Filter features that are not assigned at least to the Phylum level\n",
    "\n",
    "Since the SILVA annotations assign taxonomic levels as D_0 = kingdom, D_1 = phylum, etc. only include those features with annotations of *at least* phylum level."
   ]
  },
  {
   "cell_type": "code",
   "execution_count": null,
   "metadata": {},
   "outputs": [],
   "source": [
    "%%bash\n",
    "qiime taxa filter-table \\\n",
    "    --i-table filtered-table.qza \\\n",
    "    --i-taxonomy taxonomy.qza \\\n",
    "    --p-include D_1__\\\n",
    "    --o-filtered-table taxa-filtered-table.qza"
   ]
  },
  {
   "cell_type": "code",
   "execution_count": null,
   "metadata": {},
   "outputs": [],
   "source": [
    "## Filter contaminants identified by decontam\n",
    "\n",
    "Use the `contaminants.tsv` file created by the decontam script to filter out possible contaminant FeatureIDs."
   ]
  },
  {
   "cell_type": "code",
   "execution_count": null,
   "metadata": {},
   "outputs": [],
   "source": [
    "%%bash\n",
    "qiime feature-table filter-features \\\n",
    "    --i-table taxa-filtered-table.qza \\\n",
    "    --m-metadata-file contaminants.tsv \\\n",
    "    --p-exclude-ids \\\n",
    "    --o-filtered-table decontam-taxa-filtered-table.qza"
   ]
  },
  {
   "cell_type": "markdown",
   "metadata": {},
   "source": [
    "## Filter the rep-seqs to match the new feature table"
   ]
  },
  {
   "cell_type": "code",
   "execution_count": null,
   "metadata": {},
   "outputs": [],
   "source": [
    "%%bash\n",
    "qiime feature-table filter-seqs \\\n",
    "    --i-data rep-seqs.qza \\\n",
    "    --i-table decontam-taxa-filtered-10table.qza \\\n",
    "    --o-filtered-data filtered-rep-seqs10.qza"
   ]
  }
 ],
 "metadata": {
  "kernelspec": {
   "display_name": "Python 3",
   "language": "python",
   "name": "python3"
  },
  "language_info": {
   "codemirror_mode": {
    "name": "ipython",
    "version": 3
   },
   "file_extension": ".py",
   "mimetype": "text/x-python",
   "name": "python",
   "nbconvert_exporter": "python",
   "pygments_lexer": "ipython3",
   "version": "3.6.7"
  }
 },
 "nbformat": 4,
 "nbformat_minor": 2
}
