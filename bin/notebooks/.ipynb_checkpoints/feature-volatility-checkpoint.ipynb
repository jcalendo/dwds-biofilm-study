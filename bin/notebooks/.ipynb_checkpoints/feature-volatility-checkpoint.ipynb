{
 "cells": [
  {
   "cell_type": "markdown",
   "metadata": {},
   "source": [
    "# Feature Volatility\n",
    "\n",
    "Identify features that are predictive of a given state column (time) and plot their relative frequencies across states using interactive volatility plots.\n",
    "\n",
    "First observe feature volatility in the 7 chosen taxa, then explore data for important taxa.\n",
    "\n",
    "Produce volatility plots of given families first. \n",
    "\n",
    "1. Mycobacteriaceae\n",
    "2. Legionellaceae\n",
    "3. Burkholderiaceae\n",
    "4. Azospirillaceae\n",
    "5. Nitrosomonadaceae\n",
    "6. Nitrospiraceae\n",
    "7. Pseudomonadaceae"
   ]
  },
  {
   "cell_type": "markdown",
   "metadata": {},
   "source": [
    "## Collapse tables to Family level and convert to relative frequencies"
   ]
  },
  {
   "cell_type": "code",
   "execution_count": null,
   "metadata": {},
   "outputs": [],
   "source": [
    "%%bash\n",
    "qiime taxa collapse \\\n",
    "    --i-table AR-filtered-table.qza \\\n",
    "    --i-taxonomy taxonomy.qza \\\n",
    "    --p-level 5 \\\n",
    "    --o-collapsed-table family-level-table.qza\n",
    "\n",
    "# Create table of relative frequencies\n",
    "qiime feature-table relative-frequency \\\n",
    "    --i-table family-level-table.qza \\\n",
    "    --o-relative-frequency-table family-level-relative-frequency-table.qza"
   ]
  },
  {
   "cell_type": "markdown",
   "metadata": {},
   "source": [
    "## Create Family level plots for the given Families\n",
    "\n",
    "Each of these plots is exactly the same, the only diference is in which default taxa is shown in the plot. In other words, you can select Burkholderiaceae after opening the Mycobacteriaceae plot - its just easier to have a plot open to the given default value"
   ]
  },
  {
   "cell_type": "code",
   "execution_count": null,
   "metadata": {},
   "outputs": [],
   "source": [
    "# Mycobacteriaceae\n",
    "qiime longitudinal volatility \\\n",
    "    --m-metadata-file sample-metadata.tsv \\\n",
    "    --i-table family-level-relative-frequency-table.qza \\\n",
    "    --p-default-metric \"D_0__Bacteria;D_1__Actinobacteria;D_2__Actinobacteria;D_3__Corynebacteriales;D_4__Mycobacteriaceae\" \\\n",
    "    --p-default-group-column Pipe_Material \\\n",
    "    --p-state-column Months_Since_Start \\\n",
    "    --p-individual-id-column Sample_Identifier \\\n",
    "    --o-visualization longitudinal/AR-Mycobacteriaceae-volatility.qzv\n",
    "\n",
    "# Legionellaceae\n",
    "qiime longitudinal volatility \\\n",
    "    --m-metadata-file sample-metadata.tsv \\\n",
    "    --i-table family-level-relative-frequency-table.qza \\\n",
    "    --p-default-metric \"D_0__Bacteria;D_1__Proteobacteria;D_2__Gammaproteobacteria;D_3__Legionellales;D_4__Legionellaceae\" \\\n",
    "    --p-default-group-column Pipe_Material \\\n",
    "    --p-state-column Months_Since_Start \\\n",
    "    --p-individual-id-column Sample_Identifier \\\n",
    "    --o-visualization longitudinal/AR-Legionellaceae-volatility.qzv\n",
    "\n",
    "# Burkholderiaceae\n",
    "qiime longitudinal volatility \\\n",
    "    --m-metadata-file sample-metadata.tsv \\\n",
    "    --i-table family-level-relative-frequency-table.qza \\\n",
    "    --p-default-metric \"D_0__Bacteria;D_1__Proteobacteria;D_2__Gammaproteobacteria;D_3__Betaproteobacteriales;D_4__Burkholderiaceae\" \\\n",
    "    --p-default-group-column Pipe_Material \\\n",
    "    --p-state-column Months_Since_Start \\\n",
    "    --p-individual-id-column Sample_Identifier \\\n",
    "    --o-visualization longitudinal/AR-Burkholderiaceae-volatility.qzv\n",
    "\n",
    "# Azospirillaceae\n",
    "qiime longitudinal volatility \\\n",
    "    --m-metadata-file sample-metadata.tsv \\\n",
    "    --i-table family-level-relative-frequency-table.qza \\\n",
    "    --p-default-metric \"D_0__Bacteria;D_1__Proteobacteria;D_2__Alphaproteobacteria;D_3__Azospirillales;D_4__Azospirillaceae\" \\\n",
    "    --p-default-group-column Pipe_Material \\\n",
    "    --p-state-column Months_Since_Start \\\n",
    "    --p-individual-id-column Sample_Identifier \\\n",
    "    --o-visualization longitudinal/AR-Azospirillaceae-volatility.qzv\n",
    "\n",
    "# Nitrosomonadaceae\n",
    "qiime longitudinal volatility \\\n",
    "    --m-metadata-file sample-metadata.tsv \\\n",
    "    --i-table family-level-relative-frequency-table.qza \\\n",
    "    --p-default-metric \"D_0__Bacteria;D_1__Proteobacteria;D_2__Gammaproteobacteria;D_3__Betaproteobacteriales;D_4__Nitrosomonadaceae\" \\\n",
    "    --p-default-group-column Pipe_Material \\\n",
    "    --p-state-column Months_Since_Start \\\n",
    "    --p-individual-id-column Sample_Identifier \\\n",
    "    --o-visualization longitudinal/AR-Nitrosomonadaceae-volatility.qzv\n",
    "\n",
    "# Nitrospiraceae\n",
    "qiime longitudinal volatility \\\n",
    "    --m-metadata-file sample-metadata.tsv \\\n",
    "    --i-table family-level-relative-frequency-table.qza \\\n",
    "    --p-default-metric \"D_0__Bacteria;D_1__Nitrospirae;D_2__Nitrospira;D_3__Nitrospirales;D_4__Nitrospiraceae\" \\\n",
    "    --p-default-group-column Pipe_Material \\\n",
    "    --p-state-column Months_Since_Start \\\n",
    "    --p-individual-id-column Sample_Identifier \\\n",
    "    --o-visualization longitudinal/AR-Nitrospiraceae-volatility.qzv\n",
    "\n",
    "# Pseudomonadaceae\n",
    "qiime longitudinal volatility \\\n",
    "    --m-metadata-file sample-metadata.tsv \\\n",
    "    --i-table family-level-relative-frequency-table.qza \\\n",
    "    --p-default-metric \"D_0__Bacteria;D_1__Proteobacteria;D_2__Gammaproteobacteria;D_3__Pseudomonadales;D_4__Pseudomonadaceae\" \\\n",
    "    --p-default-group-column Pipe_Material \\\n",
    "    --p-state-column Months_Since_Start \\\n",
    "    --p-individual-id-column Sample_Identifier \\\n",
    "    --o-visualization longitudinal/AR-Pseudomonadaceae-volatility.qzv\n",
    "\n",
    "# The following families were identified with the `longitudinal feature-volatility` plugin. See below for implementation.\n",
    "# Rhodocyclaceae - Cast Iron dominant\n",
    "qiime longitudinal volatility \\\n",
    "    --m-metadata-file sample-metadata.tsv \\\n",
    "    --i-table family-level-relative-frequency-table.qza \\\n",
    "    --p-default-metric \"D_0__Bacteria;D_1__Proteobacteria;D_2__Gammaproteobacteria;D_3__Betaproteobacteriales;D_4__Rhodocyclaceae\" \\\n",
    "     --p-default-group-column Pipe_Material \\\n",
    "    --p-state-column Months_Since_Start \\\n",
    "    --p-individual-id-column Sample_Identifier \\\n",
    "    --o-visualization longitudinal/AR-Rhodocyclaceae-volatility.qzv\n",
    "\n",
    "# Chitinophagaceae - Cast Iron dominant\n",
    "qiime longitudinal volatility \\\n",
    "    --m-metadata-file sample-metadata.tsv \\\n",
    "    --i-table family-level-relative-frequency-table.qza \\\n",
    "    --p-default-metric \"D_0__Bacteria;D_1__Bacteroidetes;D_2__Bacteroidia;D_3__Chitinophagales;D_4__Chitinophagaceae\" \\\n",
    "     --p-default-group-column Pipe_Material \\\n",
    "    --p-state-column Months_Since_Start \\\n",
    "    --p-individual-id-column Sample_Identifier \\\n",
    "    --o-visualization longitudinal/AR-Chitinophagaceae-volatility.qzv\n",
    "\n",
    "# Beijerinckiaceae - Cement dominant\n",
    "qiime longitudinal volatility \\\n",
    "    --m-metadata-file sample-metadata.tsv \\\n",
    "    --i-table family-level-relative-frequency-table.qza \\\n",
    "    --p-default-metric \"D_0__Bacteria;D_1__Proteobacteria;D_2__Alphaproteobacteria;D_3__Rhizobiales;D_4__Beijerinckiaceae\" \\\n",
    "     --p-default-group-column Pipe_Material \\\n",
    "    --p-state-column Months_Since_Start \\\n",
    "    --p-individual-id-column Sample_Identifier \\\n",
    "    --o-visualization longitudinal/AR-Beijerinckiaceae-volatility.qzv"
   ]
  },
  {
   "cell_type": "markdown",
   "metadata": {},
   "source": [
    "## Identify Important Features with a Random Forest Regressor\n",
    "\n",
    "Instead of selecting features ourselves we can use a random forest regressor to pick features that are most important in a given pipe material. Fits we'll have to split the tables and then collapse to the desired taxonomic level. Then we can train the classifier on the data in order to pick out the most important features."
   ]
  },
  {
   "cell_type": "markdown",
   "metadata": {},
   "source": [
    "## Split Tables"
   ]
  },
  {
   "cell_type": "code",
   "execution_count": null,
   "metadata": {},
   "outputs": [],
   "source": [
    "%%bash\n",
    "qiime feature-table filter-samples \\\n",
    "    --i-table AR-filtered-table.qza \\\n",
    "    --m-metadata-file sample-metadata.tsv \\\n",
    "    --p-where \"Pipe_Material = 'Cast Iron'\" \\\n",
    "    --o-filtered-table cast-iron-table.qza\n",
    "\n",
    "qiime feature-table filter-samples \\\n",
    "    --i-table AR-filtered-table.qza \\\n",
    "    --m-metadata-file sample-metadata.tsv \\\n",
    "    --p-where \"Pipe_Material = 'Cement'\" \\\n",
    "    --o-filtered-table cement-table.qza"
   ]
  },
  {
   "cell_type": "markdown",
   "metadata": {},
   "source": [
    "## Collapse each to family and genus level"
   ]
  },
  {
   "cell_type": "code",
   "execution_count": null,
   "metadata": {},
   "outputs": [],
   "source": [
    "%%bash\n",
    "# family level\n",
    "qiime taxa collapse \\\n",
    "    --i-table cast-iron-table.qza \\\n",
    "    --i-taxonomy taxonomy.qza \\\n",
    "    --p-level 5 \\\n",
    "    --o-collapsed-table cast-iron-family-table.qza\n",
    "\n",
    "qiime taxa collapse \\\n",
    "    --i-table cement-table.qza \\\n",
    "    --i-taxonomy taxonomy.qza \\\n",
    "    --p-level 5 \\\n",
    "    --o-collapsed-table cement-family-table.qza\n",
    "\n",
    "# genus level\n",
    "qiime taxa collapse \\\n",
    "    --i-table cast-iron-table.qza \\\n",
    "    --i-taxonomy taxonomy.qza \\\n",
    "    --p-level 6 \\\n",
    "    --o-collapsed-table cast-iron-genus-table.qza\n",
    "\n",
    "qiime taxa collapse \\\n",
    "    --i-table cement-table.qza \\\n",
    "    --i-taxonomy taxonomy.qza \\\n",
    "    --p-level 6 \\\n",
    "    --o-collapsed-table cement-genus-table.qza"
   ]
  },
  {
   "cell_type": "markdown",
   "metadata": {},
   "source": [
    "## Perform feature volatilty on each pipe material at the family level"
   ]
  },
  {
   "cell_type": "code",
   "execution_count": null,
   "metadata": {},
   "outputs": [],
   "source": [
    "%%bash\n",
    "qiime longitudinal feature-volatility \\\n",
    "    --i-table cast-iron-family-table.qza \\\n",
    "    --m-metadata-file sample-metadata.tsv \\\n",
    "    --p-state-column Months_Since_Start \\\n",
    "    --p-individual-id-column Sample_Identifier \\\n",
    "    --p-n-jobs 8 \\\n",
    "    --output-dir longitudinal/cast-iron-feature-volatility\n",
    "     \n",
    "qiime longitudinal feature-volatility \\\n",
    "    --i-table cement-family-table.qza \\\n",
    "    --m-metadata-file sample-metadata.tsv \\\n",
    "    --p-state-column Months_Since_Start \\\n",
    "    --p-individual-id-column Sample_Identifier \\\n",
    "    --p-n-jobs 8 \\\n",
    "    --output-dir longitudinal/cement-feature-volatility"
   ]
  },
  {
   "cell_type": "markdown",
   "metadata": {},
   "source": [
    "## Perform feature volatility on each Pipe Material at the Genus level"
   ]
  },
  {
   "cell_type": "code",
   "execution_count": null,
   "metadata": {},
   "outputs": [],
   "source": [
    "%%bash\n",
    "qiime longitudinal feature-volatility \\\n",
    "    --i-table cast-iron-genus-table.qza \\\n",
    "    --m-metadata-file sample-metadata.tsv \\\n",
    "    --p-state-column Months_Since_Start \\\n",
    "    --p-individual-id-column Sample_Identifier \\\n",
    "    --p-n-jobs 4 \\\n",
    "    --output-dir longitudinal/cast-iron-feature-volatility2\n",
    "     \n",
    "qiime longitudinal feature-volatility \\\n",
    "    --i-table cement-genus-table.qza \\\n",
    "    --m-metadata-file sample-metadata.tsv \\\n",
    "    --p-state-column Months_Since_Start \\\n",
    "    --p-individual-id-column Sample_Identifier \\\n",
    "    --p-n-jobs 4 \\\n",
    "    --output-dir longitudinal/cement-feature-volatility2"
   ]
  },
  {
   "cell_type": "markdown",
   "metadata": {},
   "source": [
    "## Compute on original table to see if there is any difference"
   ]
  },
  {
   "cell_type": "code",
   "execution_count": null,
   "metadata": {},
   "outputs": [],
   "source": [
    "%%bash\n",
    "qiime longitudinal feature-volatility \\\n",
    "    --i-table family-level-table.qza \\\n",
    "    --m-metadata-file sample-metadata.tsv \\\n",
    "    --p-state-column Months_Since_Start \\\n",
    "    --p-individual-id-column Sample_Identifier \\\n",
    "    --p-n-jobs 4 \\\n",
    "    --output-dir longitudinal/AR-feature-volatility"
   ]
  }
 ],
 "metadata": {
  "kernelspec": {
   "display_name": "Python 3",
   "language": "python",
   "name": "python3"
  },
  "language_info": {
   "codemirror_mode": {
    "name": "ipython",
    "version": 3
   },
   "file_extension": ".py",
   "mimetype": "text/x-python",
   "name": "python",
   "nbconvert_exporter": "python",
   "pygments_lexer": "ipython3",
   "version": "3.6.7"
  }
 },
 "nbformat": 4,
 "nbformat_minor": 2
}
